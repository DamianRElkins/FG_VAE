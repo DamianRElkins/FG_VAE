{
 "cells": [
  {
   "cell_type": "code",
   "execution_count": null,
   "id": "5e35dc1d",
   "metadata": {},
   "outputs": [],
   "source": [
    "from fg_funcs import *"
   ]
  },
  {
   "cell_type": "code",
   "execution_count": null,
   "id": "16ce4f19",
   "metadata": {},
   "outputs": [],
   "source": [
    "# Load the full dataset\n",
    "dataset = pd.read_csv('chembl_35_fg_full.csv')"
   ]
  }
 ],
 "metadata": {
  "language_info": {
   "name": "python"
  }
 },
 "nbformat": 4,
 "nbformat_minor": 5
}
