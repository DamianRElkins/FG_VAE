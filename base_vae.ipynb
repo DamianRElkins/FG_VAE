{
 "cells": [
  {
   "cell_type": "code",
   "execution_count": 75,
   "id": "70e81113",
   "metadata": {},
   "outputs": [],
   "source": [
    "import rdkit\n",
    "import rdkit.Chem as Chem\n",
    "import efgs\n",
    "from joblib import Parallel, delayed\n",
    "import pandas as pd\n",
    "from rdkit.Chem import AllChem, Descriptors\n",
    "from rdkit.Chem.Scaffolds import MurckoScaffold\n",
    "import pickle\n",
    "import os\n",
    "import math\n",
    "from rdkit import DataStructs\n",
    "import numpy as np"
   ]
  },
  {
   "cell_type": "code",
   "execution_count": 47,
   "id": "edfdbb7f",
   "metadata": {},
   "outputs": [],
   "source": [
    "# Load the dataset\n",
    "data_path = 'chembl_35_fg_scaf.csv'\n",
    "if os.path.exists(data_path):\n",
    "    chembl = pd.read_csv(data_path)\n",
    "else:\n",
    "    raise FileNotFoundError(f\"Dataset not found at {data_path}\")"
   ]
  },
  {
   "cell_type": "code",
   "execution_count": 48,
   "id": "86c89efd",
   "metadata": {},
   "outputs": [
    {
     "data": {
      "text/plain": [
       "(2310847, 4)"
      ]
     },
     "execution_count": 48,
     "metadata": {},
     "output_type": "execute_result"
    }
   ],
   "source": [
    "chembl.shape"
   ]
  },
  {
   "cell_type": "code",
   "execution_count": 49,
   "id": "84a1b732",
   "metadata": {},
   "outputs": [],
   "source": [
    "# Convert each fgs entry to a list\n",
    "chembl['fgs'] = chembl['fgs'].apply(lambda x: eval(x) if isinstance(x, str) else x)"
   ]
  },
  {
   "cell_type": "code",
   "execution_count": 50,
   "id": "953ec1ee",
   "metadata": {},
   "outputs": [
    {
     "data": {
      "text/plain": [
       "(2310847, 4)"
      ]
     },
     "execution_count": 50,
     "metadata": {},
     "output_type": "execute_result"
    }
   ],
   "source": [
    "chembl.shape"
   ]
  },
  {
   "cell_type": "code",
   "execution_count": 51,
   "id": "eb62cdd6",
   "metadata": {},
   "outputs": [
    {
     "data": {
      "text/plain": [
       "(2310581, 4)"
      ]
     },
     "execution_count": 51,
     "metadata": {},
     "output_type": "execute_result"
    }
   ],
   "source": [
    "# drop rows with empty fgs\n",
    "chembl = chembl[chembl['fgs'].notna() & (chembl['fgs'].str.len() > 0)]\n",
    "chembl.shape"
   ]
  },
  {
   "cell_type": "code",
   "execution_count": 52,
   "id": "148db81b",
   "metadata": {},
   "outputs": [
    {
     "name": "stdout",
     "output_type": "stream",
     "text": [
      "['[Nar]', '[R][O][R]', 'O=[C]([R])[N]([R])[R]', '[F][R]', '[R][N]([R])[R]', '[Cl][R]', '[OH][Cal]', '[R][NH][R]', '[O]=[Car]', '[OH][Car]', '[Sar]', '[Oar]', 'O=[C]([R])[O][R]', 'O=[C](O)[R]', 'O=[S](=O)([R])[N]([R])[R]', 'C=C', 'O=[C]([R])[R]', '[R][S][R]', '[NH2][Car]', '[R][Br]']\n"
     ]
    }
   ],
   "source": [
    "# Currate dataset using 4 functional groups\n",
    "fgs_list = []\n",
    "for fgs in chembl['fgs']:\n",
    "    if isinstance(fgs, list):\n",
    "        fgs_list.extend(fgs)\n",
    "sorted_fgs = pd.Series(fgs_list).value_counts().head(20).index.tolist()\n",
    "\n",
    "print(sorted_fgs)\n"
   ]
  },
  {
   "cell_type": "code",
   "execution_count": 53,
   "id": "73139aa6",
   "metadata": {},
   "outputs": [
    {
     "name": "stdout",
     "output_type": "stream",
     "text": [
      "[Nar]                               3188978\n",
      "[R][O][R]                           1322479\n",
      "O=[C]([R])[N]([R])[R]               1249000\n",
      "[F][R]                               962042\n",
      "[R][N]([R])[R]                       699809\n",
      "[Cl][R]                              502836\n",
      "[OH][Cal]                            485908\n",
      "[R][NH][R]                           397184\n",
      "[O]=[Car]                            305243\n",
      "[OH][Car]                            282228\n",
      "[Sar]                                281385\n",
      "[Oar]                                275334\n",
      "O=[C]([R])[O][R]                     259821\n",
      "O=[C](O)[R]                          203151\n",
      "O=[S](=O)([R])[N]([R])[R]            195132\n",
      "C=C                                  172048\n",
      "O=[C]([R])[R]                        148208\n",
      "[R][S][R]                            132147\n",
      "[NH2][Car]                           130185\n",
      "[R][Br]                              104909\n",
      "C#N                                   99300\n",
      "O=C([N]([R])[R])[N]([R])[R]           93996\n",
      "[NH2][Cal]                            88617\n",
      "O=[N+]([O-])[R]                       85965\n",
      "[R][O]C[O][R]                         75725\n",
      "O=C([O][R])[N]([R])[R]                70625\n",
      "O=[S](=O)([R])[R]                     55281\n",
      "C#C                                   31427\n",
      "O=[C]([R])[N]([R])[C](=O)[R]          30775\n",
      "C=C[C](=O)[R]                         29701\n",
      "C=CC(=O)[N]([R])[R]                   29648\n",
      "C=N[N]([R])[C](=O)[R]                 22917\n",
      "C=CC(=O)[O][R]                        22487\n",
      "[R][N]=C([N]([R])[R])[N]([R])[R]      22188\n",
      "[R][N]=C[N]([R])[R]                   19198\n",
      "O=[C]([R])[N](O)[R]                   17670\n",
      "[Nar+]                                16454\n",
      "[R][I]                                13220\n",
      "C=N[N]([R])[R]                        11523\n",
      "C=[N][R]                              11375\n",
      "O=[C]([R])[N]([R])[S](=O)(=O)[R]      10427\n",
      "C=N[O][R]                              9959\n",
      "[SH][R]                                9685\n",
      "O=[CH][R]                              9595\n",
      "O=[C]1[R][N]([R])C(=O)[N]1[R]          9362\n",
      "O=[C]([R])C(=O)[N]([R])[R]             8575\n",
      "[R][N+]([R])([R])[R]                   8530\n",
      "S=C([N]([R])[R])[N]([R])[R]            7862\n",
      "[R][N]=C([S][R])[N]([R])[R]            7858\n",
      "O=[P](O)(O)[R]                         7579\n",
      "Name: count, dtype: int64\n"
     ]
    }
   ],
   "source": [
    "print(pd.Series(fgs_list).value_counts().head(50))"
   ]
  },
  {
   "cell_type": "code",
   "execution_count": 54,
   "id": "20359879",
   "metadata": {},
   "outputs": [
    {
     "data": {
      "text/plain": [
       "(717003, 4)"
      ]
     },
     "execution_count": 54,
     "metadata": {},
     "output_type": "execute_result"
    }
   ],
   "source": [
    "curation_fgs = ['[R][NH][R]', 'O=[C](O)[R]', 'C=C', '[NH2][Car]']\n",
    "chembl_curated = chembl[chembl['fgs'].apply(lambda x: any(fg in x for fg in curation_fgs))]\n",
    "chembl_curated.shape"
   ]
  },
  {
   "cell_type": "code",
   "execution_count": 55,
   "id": "6c4ade7b",
   "metadata": {},
   "outputs": [],
   "source": [
    "# Convert SMILES to RDKit Mol objects\n",
    "def smiles_to_mol(smiles):\n",
    "    try:\n",
    "        return Chem.MolFromSmiles(smiles)\n",
    "    except Exception as e:\n",
    "        print(f\"Error converting SMILES {smiles}: {e}\")\n",
    "        return None\n",
    "    "
   ]
  },
  {
   "cell_type": "code",
   "execution_count": null,
   "id": "a33d9a77",
   "metadata": {},
   "outputs": [
    {
     "name": "stderr",
     "output_type": "stream",
     "text": [
      "/var/folders/r4/3wxjq8t93d76lfkb5vmhrlpr0000gn/T/ipykernel_44131/1735427373.py:2: SettingWithCopyWarning: \n",
      "A value is trying to be set on a copy of a slice from a DataFrame.\n",
      "Try using .loc[row_indexer,col_indexer] = value instead\n",
      "\n",
      "See the caveats in the documentation: https://pandas.pydata.org/pandas-docs/stable/user_guide/indexing.html#returning-a-view-versus-a-copy\n",
      "  chembl_curated['mol'] = chembl_curated['smiles'].apply(smiles_to_mol)\n"
     ]
    }
   ],
   "source": [
    "# Convert SMILES to RDKit Mol objects\n",
    "chembl_curated['mol'] = chembl_curated['smiles'].apply(smiles_to_mol)\n",
    "chembl_curated.head()\n"
   ]
  },
  {
   "cell_type": "code",
   "execution_count": 58,
   "id": "e33831ad",
   "metadata": {},
   "outputs": [
    {
     "name": "stderr",
     "output_type": "stream",
     "text": [
      "/var/folders/r4/3wxjq8t93d76lfkb5vmhrlpr0000gn/T/ipykernel_44131/754516725.py:2: SettingWithCopyWarning: \n",
      "A value is trying to be set on a copy of a slice from a DataFrame.\n",
      "Try using .loc[row_indexer,col_indexer] = value instead\n",
      "\n",
      "See the caveats in the documentation: https://pandas.pydata.org/pandas-docs/stable/user_guide/indexing.html#returning-a-view-versus-a-copy\n",
      "  chembl_curated['mol_weight'] = chembl_curated['mol'].apply(lambda x: Descriptors.MolWt(x) if x else None)\n"
     ]
    },
    {
     "data": {
      "application/vnd.microsoft.datawrangler.viewer.v0+json": {
       "columns": [
        {
         "name": "index",
         "rawType": "int64",
         "type": "integer"
        },
        {
         "name": "smiles",
         "rawType": "object",
         "type": "string"
        },
        {
         "name": "inchikey",
         "rawType": "object",
         "type": "string"
        },
        {
         "name": "fgs",
         "rawType": "object",
         "type": "unknown"
        },
        {
         "name": "scaffolds",
         "rawType": "object",
         "type": "unknown"
        },
        {
         "name": "mol",
         "rawType": "object",
         "type": "unknown"
        },
        {
         "name": "mol_weight",
         "rawType": "float64",
         "type": "float"
        }
       ],
       "ref": "4b3a3b54-0aa1-46c2-9538-f330784d4f40",
       "rows": [
        [
         "4",
         "Cc1cc(CC#N)cc(C)c1Nc1ccnc(Nc2ccc(C#N)cc2)n1",
         "ZKXJVUBVZRGELZ-UHFFFAOYSA-N",
         "['C#N', '[R][NH][R]', '[R][NH][R]', 'C#N', '[Nar]', '[Nar]']",
         "c1ccc(Nc2ccnc(Nc3ccccc3)n2)cc1",
         "<rdkit.Chem.rdchem.Mol object at 0x32234b140>",
         "354.4170000000001"
        ],
        [
         "5",
         "CC[C@H](C)[C@H](NS(=O)(=O)c1ccc(C)cc1)C(=O)N1CCC(C(=O)N[C@H](C(=O)O)C(C)C)CC1",
         "GDPHYVWXATZNEZ-YYWHXJBOSA-N",
         "['O=[S](=O)([R])[N]([R])[R]', 'O=[C]([R])[N]([R])[R]', 'O=[C]([R])[N]([R])[R]', 'O=[C](O)[R]']",
         "*=C(CNS(=*)(=*)c1ccccc1)N1CCCCC1",
         "<rdkit.Chem.rdchem.Mol object at 0x32234ad50>",
         "495.64200000000034"
        ],
        [
         "9",
         "C[C@]12CC[C@H](O)C[C@]1(C=O)CC=C1CCC12",
         "OXLGUMPVPZLFKY-FUEJHIMDSA-N",
         "['[OH][Cal]', 'O=[CH][R]', 'C=C']",
         "C1=C2CCC2C2CCCCC2C1",
         "<rdkit.Chem.rdchem.Mol object at 0x327e39f50>",
         "220.31199999999995"
        ],
        [
         "13",
         "CC(C)(C)SC[C@H](N)C(=O)O",
         "VADVRIAPCDFQJU-YFKPBYRVSA-N",
         "['[R][S][R]', '[NH2][Cal]', 'O=[C](O)[R]']",
         null,
         "<rdkit.Chem.rdchem.Mol object at 0x372a43060>",
         "177.26899999999998"
        ],
        [
         "14",
         "C=CCc1cc(/C=C2\\CN(C)C/C(=C\\c3ccc(O)c(CC=C)c3)C2=O)ccc1O",
         "IWFTZFJVKREGEG-HOFJZWJUSA-N",
         "['C=C', 'C=CC(=O)C=C', '[R][N]([R])[R]', '[OH][Car]', 'C=C', '[OH][Car]']",
         "*=C1C(=Cc2ccccc2)CNCC1=Cc1ccccc1",
         "<rdkit.Chem.rdchem.Mol object at 0x372a43bc0>",
         "401.50600000000014"
        ]
       ],
       "shape": {
        "columns": 6,
        "rows": 5
       }
      },
      "text/html": [
       "<div>\n",
       "<style scoped>\n",
       "    .dataframe tbody tr th:only-of-type {\n",
       "        vertical-align: middle;\n",
       "    }\n",
       "\n",
       "    .dataframe tbody tr th {\n",
       "        vertical-align: top;\n",
       "    }\n",
       "\n",
       "    .dataframe thead th {\n",
       "        text-align: right;\n",
       "    }\n",
       "</style>\n",
       "<table border=\"1\" class=\"dataframe\">\n",
       "  <thead>\n",
       "    <tr style=\"text-align: right;\">\n",
       "      <th></th>\n",
       "      <th>smiles</th>\n",
       "      <th>inchikey</th>\n",
       "      <th>fgs</th>\n",
       "      <th>scaffolds</th>\n",
       "      <th>mol</th>\n",
       "      <th>mol_weight</th>\n",
       "    </tr>\n",
       "  </thead>\n",
       "  <tbody>\n",
       "    <tr>\n",
       "      <th>4</th>\n",
       "      <td>Cc1cc(CC#N)cc(C)c1Nc1ccnc(Nc2ccc(C#N)cc2)n1</td>\n",
       "      <td>ZKXJVUBVZRGELZ-UHFFFAOYSA-N</td>\n",
       "      <td>[C#N, [R][NH][R], [R][NH][R], C#N, [Nar], [Nar]]</td>\n",
       "      <td>c1ccc(Nc2ccnc(Nc3ccccc3)n2)cc1</td>\n",
       "      <td>&lt;rdkit.Chem.rdchem.Mol object at 0x32234b140&gt;</td>\n",
       "      <td>354.417</td>\n",
       "    </tr>\n",
       "    <tr>\n",
       "      <th>5</th>\n",
       "      <td>CC[C@H](C)[C@H](NS(=O)(=O)c1ccc(C)cc1)C(=O)N1C...</td>\n",
       "      <td>GDPHYVWXATZNEZ-YYWHXJBOSA-N</td>\n",
       "      <td>[O=[S](=O)([R])[N]([R])[R], O=[C]([R])[N]([R])...</td>\n",
       "      <td>*=C(CNS(=*)(=*)c1ccccc1)N1CCCCC1</td>\n",
       "      <td>&lt;rdkit.Chem.rdchem.Mol object at 0x32234ad50&gt;</td>\n",
       "      <td>495.642</td>\n",
       "    </tr>\n",
       "    <tr>\n",
       "      <th>9</th>\n",
       "      <td>C[C@]12CC[C@H](O)C[C@]1(C=O)CC=C1CCC12</td>\n",
       "      <td>OXLGUMPVPZLFKY-FUEJHIMDSA-N</td>\n",
       "      <td>[[OH][Cal], O=[CH][R], C=C]</td>\n",
       "      <td>C1=C2CCC2C2CCCCC2C1</td>\n",
       "      <td>&lt;rdkit.Chem.rdchem.Mol object at 0x327e39f50&gt;</td>\n",
       "      <td>220.312</td>\n",
       "    </tr>\n",
       "    <tr>\n",
       "      <th>13</th>\n",
       "      <td>CC(C)(C)SC[C@H](N)C(=O)O</td>\n",
       "      <td>VADVRIAPCDFQJU-YFKPBYRVSA-N</td>\n",
       "      <td>[[R][S][R], [NH2][Cal], O=[C](O)[R]]</td>\n",
       "      <td>NaN</td>\n",
       "      <td>&lt;rdkit.Chem.rdchem.Mol object at 0x372a43060&gt;</td>\n",
       "      <td>177.269</td>\n",
       "    </tr>\n",
       "    <tr>\n",
       "      <th>14</th>\n",
       "      <td>C=CCc1cc(/C=C2\\CN(C)C/C(=C\\c3ccc(O)c(CC=C)c3)C...</td>\n",
       "      <td>IWFTZFJVKREGEG-HOFJZWJUSA-N</td>\n",
       "      <td>[C=C, C=CC(=O)C=C, [R][N]([R])[R], [OH][Car], ...</td>\n",
       "      <td>*=C1C(=Cc2ccccc2)CNCC1=Cc1ccccc1</td>\n",
       "      <td>&lt;rdkit.Chem.rdchem.Mol object at 0x372a43bc0&gt;</td>\n",
       "      <td>401.506</td>\n",
       "    </tr>\n",
       "  </tbody>\n",
       "</table>\n",
       "</div>"
      ],
      "text/plain": [
       "                                               smiles  \\\n",
       "4         Cc1cc(CC#N)cc(C)c1Nc1ccnc(Nc2ccc(C#N)cc2)n1   \n",
       "5   CC[C@H](C)[C@H](NS(=O)(=O)c1ccc(C)cc1)C(=O)N1C...   \n",
       "9              C[C@]12CC[C@H](O)C[C@]1(C=O)CC=C1CCC12   \n",
       "13                           CC(C)(C)SC[C@H](N)C(=O)O   \n",
       "14  C=CCc1cc(/C=C2\\CN(C)C/C(=C\\c3ccc(O)c(CC=C)c3)C...   \n",
       "\n",
       "                       inchikey  \\\n",
       "4   ZKXJVUBVZRGELZ-UHFFFAOYSA-N   \n",
       "5   GDPHYVWXATZNEZ-YYWHXJBOSA-N   \n",
       "9   OXLGUMPVPZLFKY-FUEJHIMDSA-N   \n",
       "13  VADVRIAPCDFQJU-YFKPBYRVSA-N   \n",
       "14  IWFTZFJVKREGEG-HOFJZWJUSA-N   \n",
       "\n",
       "                                                  fgs  \\\n",
       "4    [C#N, [R][NH][R], [R][NH][R], C#N, [Nar], [Nar]]   \n",
       "5   [O=[S](=O)([R])[N]([R])[R], O=[C]([R])[N]([R])...   \n",
       "9                         [[OH][Cal], O=[CH][R], C=C]   \n",
       "13               [[R][S][R], [NH2][Cal], O=[C](O)[R]]   \n",
       "14  [C=C, C=CC(=O)C=C, [R][N]([R])[R], [OH][Car], ...   \n",
       "\n",
       "                           scaffolds  \\\n",
       "4     c1ccc(Nc2ccnc(Nc3ccccc3)n2)cc1   \n",
       "5   *=C(CNS(=*)(=*)c1ccccc1)N1CCCCC1   \n",
       "9                C1=C2CCC2C2CCCCC2C1   \n",
       "13                               NaN   \n",
       "14  *=C1C(=Cc2ccccc2)CNCC1=Cc1ccccc1   \n",
       "\n",
       "                                              mol  mol_weight  \n",
       "4   <rdkit.Chem.rdchem.Mol object at 0x32234b140>     354.417  \n",
       "5   <rdkit.Chem.rdchem.Mol object at 0x32234ad50>     495.642  \n",
       "9   <rdkit.Chem.rdchem.Mol object at 0x327e39f50>     220.312  \n",
       "13  <rdkit.Chem.rdchem.Mol object at 0x372a43060>     177.269  \n",
       "14  <rdkit.Chem.rdchem.Mol object at 0x372a43bc0>     401.506  "
      ]
     },
     "execution_count": 58,
     "metadata": {},
     "output_type": "execute_result"
    }
   ],
   "source": [
    "# Get the molecular weights of the molecules\n",
    "chembl_curated['mol_weight'] = chembl_curated['mol'].apply(lambda x: Descriptors.MolWt(x) if x else None)\n",
    "chembl_curated.head()"
   ]
  },
  {
   "cell_type": "code",
   "execution_count": 61,
   "id": "825ae3cf",
   "metadata": {},
   "outputs": [
    {
     "name": "stdout",
     "output_type": "stream",
     "text": [
      "count              717003.0\n",
      "mean     425.38353725629304\n",
      "std       138.7347772154064\n",
      "min      28.053999999999995\n",
      "25%       331.4850000000001\n",
      "50%      407.49300000000034\n",
      "75%      492.33100000000013\n",
      "max      1004.3879999999997\n",
      "Name: mol_weight, dtype: object\n"
     ]
    }
   ],
   "source": [
    "print(chembl_curated['mol_weight'].describe().astype(str))"
   ]
  },
  {
   "cell_type": "code",
   "execution_count": 70,
   "id": "9fedf9ef",
   "metadata": {},
   "outputs": [],
   "source": [
    "filtered = chembl_curated[\n",
    "    (chembl_curated['mol_weight'] >= 330) & \n",
    "    (chembl_curated['mol_weight'] <= 500)\n",
    "]\n",
    "sampled = filtered.sample(n=100000, random_state=42)\n",
    "sampled[['smiles', 'inchikey', 'fgs', 'scaffolds', 'mol_weight']].to_csv('chembl_35_fg_scaf_curated.csv', index=False)"
   ]
  },
  {
   "cell_type": "code",
   "execution_count": 71,
   "id": "9e8e2412",
   "metadata": {},
   "outputs": [],
   "source": [
    "from rdkit.Chem import rdFingerprintGenerator\n",
    "\n",
    "mfpgen = rdFingerprintGenerator.GetMorganGenerator(radius=2, fpSize=2048)\n",
    "def mol_to_fingerprint(mol):\n",
    "    if mol is None:\n",
    "        return None\n",
    "    return mfpgen.GetFingerprint(mol)"
   ]
  },
  {
   "cell_type": "code",
   "execution_count": 72,
   "id": "0ed521ce",
   "metadata": {},
   "outputs": [],
   "source": [
    "sampled['fingerprint'] = sampled['mol'].apply(mol_to_fingerprint)"
   ]
  },
  {
   "cell_type": "code",
   "execution_count": 76,
   "id": "f38b6f19",
   "metadata": {},
   "outputs": [],
   "source": [
    "def fp_to_array(fp):\n",
    "    arr = np.zeros((1,), dtype=int)\n",
    "    DataStructs.ConvertToNumpyArray(fp, arr)\n",
    "    return arr\n",
    "\n",
    "sampled['fingerprint_array'] = sampled['fingerprint'].apply(\n",
    "    lambda x: fp_to_array(x) if x is not None else None\n",
    ")"
   ]
  },
  {
   "cell_type": "code",
   "execution_count": 77,
   "id": "1dc314a1",
   "metadata": {},
   "outputs": [
    {
     "data": {
      "application/vnd.microsoft.datawrangler.viewer.v0+json": {
       "columns": [
        {
         "name": "index",
         "rawType": "int64",
         "type": "integer"
        },
        {
         "name": "smiles",
         "rawType": "object",
         "type": "string"
        },
        {
         "name": "inchikey",
         "rawType": "object",
         "type": "string"
        },
        {
         "name": "fgs",
         "rawType": "object",
         "type": "unknown"
        },
        {
         "name": "scaffolds",
         "rawType": "object",
         "type": "string"
        },
        {
         "name": "mol",
         "rawType": "object",
         "type": "unknown"
        },
        {
         "name": "mol_weight",
         "rawType": "float64",
         "type": "float"
        },
        {
         "name": "fingerprint",
         "rawType": "object",
         "type": "unknown"
        },
        {
         "name": "fingerprint_array",
         "rawType": "object",
         "type": "unknown"
        }
       ],
       "ref": "118ddc78-4752-4963-9dad-fa2143686b93",
       "rows": [
        [
         "1422591",
         "O=C(O)c1cc(NC(=O)c2ccccc2F)cc(NC(=O)c2ccccc2F)c1",
         "ZASQESYJZCAESE-UHFFFAOYSA-N",
         "['O=[C](O)[R]', 'O=[C]([R])[N]([R])[R]', '[F][R]', 'O=[C]([R])[N]([R])[R]', '[F][R]']",
         "*=C(Nc1cccc(NC(=*)c2ccccc2)c1)c1ccccc1",
         "<rdkit.Chem.rdchem.Mol object at 0x349d55620>",
         "396.3490000000001",
         "<rdkit.DataStructs.cDataStructs.ExplicitBitVect object at 0x363e8daf0>",
         "[0 0 0 ... 0 0 0]"
        ],
        [
         "860799",
         "COc1cc(/C=C/c2nnc(C(C)c3ccc(F)cc3)[nH]2)ccc1-n1cnc(C)c1",
         "CRJMPGQRVVAATK-VZUCSPMQSA-N",
         "['[R][O][R]', 'C=C', '[F][R]', '[Nar]', '[Nar]', '[Nar]', '[Nar]', '[Nar]']",
         "C(=Cc1nnc(Cc2ccccc2)[nH]1)c1ccc(-n2ccnc2)cc1",
         "<rdkit.Chem.rdchem.Mol object at 0x15bab4970>",
         "403.46100000000007",
         "<rdkit.DataStructs.cDataStructs.ExplicitBitVect object at 0x363e00ac0>",
         "[0 1 0 ... 0 0 0]"
        ],
        [
         "1314447",
         "COc1cccc(Cc2c(-c3ccccc3)sc(N)c2C(=O)c2ccc(Cl)cc2)c1",
         "UPRXVPZBXSLBPJ-UHFFFAOYSA-N",
         "['[R][O][R]', '[NH2][Car]', 'O=[C]([R])[R]', '[Cl][R]', '[Sar]']",
         "*=C(c1ccccc1)c1csc(-c2ccccc2)c1Cc1ccccc1",
         "<rdkit.Chem.rdchem.Mol object at 0x35d6798c0>",
         "433.96000000000015",
         "<rdkit.DataStructs.cDataStructs.ExplicitBitVect object at 0x363e00b30>",
         "[0 0 0 ... 0 0 0]"
        ],
        [
         "2221047",
         "COc1c(-c2ccc(F)cc2C)cc(S(=O)(=O)Nc2ccc(F)c(C(=O)O)c2)c2ccccc12",
         "YXQVXPBOVNCAAO-UHFFFAOYSA-N",
         "['[R][O][R]', '[F][R]', 'O=[S](=O)([R])[N]([R])[R]', '[F][R]', 'O=[C](O)[R]']",
         "*=S(=*)(Nc1ccccc1)c1cc(-c2ccccc2)cc2ccccc12",
         "<rdkit.Chem.rdchem.Mol object at 0x36c813b50>",
         "483.49200000000013",
         "<rdkit.DataStructs.cDataStructs.ExplicitBitVect object at 0x363e017e0>",
         "[0 0 0 ... 0 0 0]"
        ],
        [
         "2230184",
         "CNC(=O)c1cc(Oc2ccc3[nH]c(Nc4ccc(C(F)(F)F)cc4)nc3c2)ccn1",
         "LZVVSWVIESQYLD-UHFFFAOYSA-N",
         "['O=[C]([R])[N]([R])[R]', '[R][O][R]', '[R][NH][R]', '[F][R]', '[F][R]', '[F][R]', '[Nar]', '[Nar]', '[Nar]']",
         "c1ccc(Nc2nc3cc(Oc4ccncc4)ccc3[nH]2)cc1",
         "<rdkit.Chem.rdchem.Mol object at 0x36c83f610>",
         "427.3860000000001",
         "<rdkit.DataStructs.cDataStructs.ExplicitBitVect object at 0x363e018c0>",
         "[0 0 0 ... 0 0 0]"
        ]
       ],
       "shape": {
        "columns": 8,
        "rows": 5
       }
      },
      "text/html": [
       "<div>\n",
       "<style scoped>\n",
       "    .dataframe tbody tr th:only-of-type {\n",
       "        vertical-align: middle;\n",
       "    }\n",
       "\n",
       "    .dataframe tbody tr th {\n",
       "        vertical-align: top;\n",
       "    }\n",
       "\n",
       "    .dataframe thead th {\n",
       "        text-align: right;\n",
       "    }\n",
       "</style>\n",
       "<table border=\"1\" class=\"dataframe\">\n",
       "  <thead>\n",
       "    <tr style=\"text-align: right;\">\n",
       "      <th></th>\n",
       "      <th>smiles</th>\n",
       "      <th>inchikey</th>\n",
       "      <th>fgs</th>\n",
       "      <th>scaffolds</th>\n",
       "      <th>mol</th>\n",
       "      <th>mol_weight</th>\n",
       "      <th>fingerprint</th>\n",
       "      <th>fingerprint_array</th>\n",
       "    </tr>\n",
       "  </thead>\n",
       "  <tbody>\n",
       "    <tr>\n",
       "      <th>1422591</th>\n",
       "      <td>O=C(O)c1cc(NC(=O)c2ccccc2F)cc(NC(=O)c2ccccc2F)c1</td>\n",
       "      <td>ZASQESYJZCAESE-UHFFFAOYSA-N</td>\n",
       "      <td>[O=[C](O)[R], O=[C]([R])[N]([R])[R], [F][R], O...</td>\n",
       "      <td>*=C(Nc1cccc(NC(=*)c2ccccc2)c1)c1ccccc1</td>\n",
       "      <td>&lt;rdkit.Chem.rdchem.Mol object at 0x349d55620&gt;</td>\n",
       "      <td>396.349</td>\n",
       "      <td>[0, 0, 0, 0, 0, 0, 0, 0, 0, 0, 0, 0, 0, 0, 0, ...</td>\n",
       "      <td>[0, 0, 0, 0, 0, 0, 0, 0, 0, 0, 0, 0, 0, 0, 0, ...</td>\n",
       "    </tr>\n",
       "    <tr>\n",
       "      <th>860799</th>\n",
       "      <td>COc1cc(/C=C/c2nnc(C(C)c3ccc(F)cc3)[nH]2)ccc1-n...</td>\n",
       "      <td>CRJMPGQRVVAATK-VZUCSPMQSA-N</td>\n",
       "      <td>[[R][O][R], C=C, [F][R], [Nar], [Nar], [Nar], ...</td>\n",
       "      <td>C(=Cc1nnc(Cc2ccccc2)[nH]1)c1ccc(-n2ccnc2)cc1</td>\n",
       "      <td>&lt;rdkit.Chem.rdchem.Mol object at 0x15bab4970&gt;</td>\n",
       "      <td>403.461</td>\n",
       "      <td>[0, 1, 0, 0, 0, 0, 0, 0, 0, 0, 0, 0, 0, 0, 0, ...</td>\n",
       "      <td>[0, 1, 0, 0, 0, 0, 0, 0, 0, 0, 0, 0, 0, 0, 0, ...</td>\n",
       "    </tr>\n",
       "    <tr>\n",
       "      <th>1314447</th>\n",
       "      <td>COc1cccc(Cc2c(-c3ccccc3)sc(N)c2C(=O)c2ccc(Cl)c...</td>\n",
       "      <td>UPRXVPZBXSLBPJ-UHFFFAOYSA-N</td>\n",
       "      <td>[[R][O][R], [NH2][Car], O=[C]([R])[R], [Cl][R]...</td>\n",
       "      <td>*=C(c1ccccc1)c1csc(-c2ccccc2)c1Cc1ccccc1</td>\n",
       "      <td>&lt;rdkit.Chem.rdchem.Mol object at 0x35d6798c0&gt;</td>\n",
       "      <td>433.960</td>\n",
       "      <td>[0, 0, 0, 0, 0, 0, 0, 0, 0, 1, 0, 0, 0, 0, 0, ...</td>\n",
       "      <td>[0, 0, 0, 0, 0, 0, 0, 0, 0, 1, 0, 0, 0, 0, 0, ...</td>\n",
       "    </tr>\n",
       "    <tr>\n",
       "      <th>2221047</th>\n",
       "      <td>COc1c(-c2ccc(F)cc2C)cc(S(=O)(=O)Nc2ccc(F)c(C(=...</td>\n",
       "      <td>YXQVXPBOVNCAAO-UHFFFAOYSA-N</td>\n",
       "      <td>[[R][O][R], [F][R], O=[S](=O)([R])[N]([R])[R],...</td>\n",
       "      <td>*=S(=*)(Nc1ccccc1)c1cc(-c2ccccc2)cc2ccccc12</td>\n",
       "      <td>&lt;rdkit.Chem.rdchem.Mol object at 0x36c813b50&gt;</td>\n",
       "      <td>483.492</td>\n",
       "      <td>[0, 0, 0, 0, 0, 0, 0, 0, 0, 0, 0, 0, 0, 0, 0, ...</td>\n",
       "      <td>[0, 0, 0, 0, 0, 0, 0, 0, 0, 0, 0, 0, 0, 0, 0, ...</td>\n",
       "    </tr>\n",
       "    <tr>\n",
       "      <th>2230184</th>\n",
       "      <td>CNC(=O)c1cc(Oc2ccc3[nH]c(Nc4ccc(C(F)(F)F)cc4)n...</td>\n",
       "      <td>LZVVSWVIESQYLD-UHFFFAOYSA-N</td>\n",
       "      <td>[O=[C]([R])[N]([R])[R], [R][O][R], [R][NH][R],...</td>\n",
       "      <td>c1ccc(Nc2nc3cc(Oc4ccncc4)ccc3[nH]2)cc1</td>\n",
       "      <td>&lt;rdkit.Chem.rdchem.Mol object at 0x36c83f610&gt;</td>\n",
       "      <td>427.386</td>\n",
       "      <td>[0, 0, 0, 0, 0, 0, 0, 0, 0, 0, 0, 0, 0, 0, 0, ...</td>\n",
       "      <td>[0, 0, 0, 0, 0, 0, 0, 0, 0, 0, 0, 0, 0, 0, 0, ...</td>\n",
       "    </tr>\n",
       "  </tbody>\n",
       "</table>\n",
       "</div>"
      ],
      "text/plain": [
       "                                                    smiles  \\\n",
       "1422591   O=C(O)c1cc(NC(=O)c2ccccc2F)cc(NC(=O)c2ccccc2F)c1   \n",
       "860799   COc1cc(/C=C/c2nnc(C(C)c3ccc(F)cc3)[nH]2)ccc1-n...   \n",
       "1314447  COc1cccc(Cc2c(-c3ccccc3)sc(N)c2C(=O)c2ccc(Cl)c...   \n",
       "2221047  COc1c(-c2ccc(F)cc2C)cc(S(=O)(=O)Nc2ccc(F)c(C(=...   \n",
       "2230184  CNC(=O)c1cc(Oc2ccc3[nH]c(Nc4ccc(C(F)(F)F)cc4)n...   \n",
       "\n",
       "                            inchikey  \\\n",
       "1422591  ZASQESYJZCAESE-UHFFFAOYSA-N   \n",
       "860799   CRJMPGQRVVAATK-VZUCSPMQSA-N   \n",
       "1314447  UPRXVPZBXSLBPJ-UHFFFAOYSA-N   \n",
       "2221047  YXQVXPBOVNCAAO-UHFFFAOYSA-N   \n",
       "2230184  LZVVSWVIESQYLD-UHFFFAOYSA-N   \n",
       "\n",
       "                                                       fgs  \\\n",
       "1422591  [O=[C](O)[R], O=[C]([R])[N]([R])[R], [F][R], O...   \n",
       "860799   [[R][O][R], C=C, [F][R], [Nar], [Nar], [Nar], ...   \n",
       "1314447  [[R][O][R], [NH2][Car], O=[C]([R])[R], [Cl][R]...   \n",
       "2221047  [[R][O][R], [F][R], O=[S](=O)([R])[N]([R])[R],...   \n",
       "2230184  [O=[C]([R])[N]([R])[R], [R][O][R], [R][NH][R],...   \n",
       "\n",
       "                                            scaffolds  \\\n",
       "1422591        *=C(Nc1cccc(NC(=*)c2ccccc2)c1)c1ccccc1   \n",
       "860799   C(=Cc1nnc(Cc2ccccc2)[nH]1)c1ccc(-n2ccnc2)cc1   \n",
       "1314447      *=C(c1ccccc1)c1csc(-c2ccccc2)c1Cc1ccccc1   \n",
       "2221047   *=S(=*)(Nc1ccccc1)c1cc(-c2ccccc2)cc2ccccc12   \n",
       "2230184        c1ccc(Nc2nc3cc(Oc4ccncc4)ccc3[nH]2)cc1   \n",
       "\n",
       "                                                   mol  mol_weight  \\\n",
       "1422591  <rdkit.Chem.rdchem.Mol object at 0x349d55620>     396.349   \n",
       "860799   <rdkit.Chem.rdchem.Mol object at 0x15bab4970>     403.461   \n",
       "1314447  <rdkit.Chem.rdchem.Mol object at 0x35d6798c0>     433.960   \n",
       "2221047  <rdkit.Chem.rdchem.Mol object at 0x36c813b50>     483.492   \n",
       "2230184  <rdkit.Chem.rdchem.Mol object at 0x36c83f610>     427.386   \n",
       "\n",
       "                                               fingerprint  \\\n",
       "1422591  [0, 0, 0, 0, 0, 0, 0, 0, 0, 0, 0, 0, 0, 0, 0, ...   \n",
       "860799   [0, 1, 0, 0, 0, 0, 0, 0, 0, 0, 0, 0, 0, 0, 0, ...   \n",
       "1314447  [0, 0, 0, 0, 0, 0, 0, 0, 0, 1, 0, 0, 0, 0, 0, ...   \n",
       "2221047  [0, 0, 0, 0, 0, 0, 0, 0, 0, 0, 0, 0, 0, 0, 0, ...   \n",
       "2230184  [0, 0, 0, 0, 0, 0, 0, 0, 0, 0, 0, 0, 0, 0, 0, ...   \n",
       "\n",
       "                                         fingerprint_array  \n",
       "1422591  [0, 0, 0, 0, 0, 0, 0, 0, 0, 0, 0, 0, 0, 0, 0, ...  \n",
       "860799   [0, 1, 0, 0, 0, 0, 0, 0, 0, 0, 0, 0, 0, 0, 0, ...  \n",
       "1314447  [0, 0, 0, 0, 0, 0, 0, 0, 0, 1, 0, 0, 0, 0, 0, ...  \n",
       "2221047  [0, 0, 0, 0, 0, 0, 0, 0, 0, 0, 0, 0, 0, 0, 0, ...  \n",
       "2230184  [0, 0, 0, 0, 0, 0, 0, 0, 0, 0, 0, 0, 0, 0, 0, ...  "
      ]
     },
     "execution_count": 77,
     "metadata": {},
     "output_type": "execute_result"
    }
   ],
   "source": [
    "sampled.head()"
   ]
  },
  {
   "cell_type": "code",
   "execution_count": 80,
   "id": "65bd0cc4",
   "metadata": {},
   "outputs": [],
   "source": [
    "# Give each molecule a 4 bit array indicating the presence of each functional group\n",
    "def fg_to_array(fgs, fg_list):\n",
    "    fg_array = np.zeros(len(fg_list), dtype=int)\n",
    "    if isinstance(fgs, list):\n",
    "        for fg in fgs:\n",
    "            if fg in fg_list:\n",
    "                fg_array[fg_list.index(fg)] = 1\n",
    "    return fg_array\n",
    "\n",
    "sampled['fg_array'] = sampled['fgs'].apply(lambda x: fg_to_array(x, curation_fgs))"
   ]
  },
  {
   "cell_type": "code",
   "execution_count": 81,
   "id": "ebef1958",
   "metadata": {},
   "outputs": [
    {
     "data": {
      "application/vnd.microsoft.datawrangler.viewer.v0+json": {
       "columns": [
        {
         "name": "index",
         "rawType": "int64",
         "type": "integer"
        },
        {
         "name": "smiles",
         "rawType": "object",
         "type": "string"
        },
        {
         "name": "inchikey",
         "rawType": "object",
         "type": "string"
        },
        {
         "name": "fgs",
         "rawType": "object",
         "type": "unknown"
        },
        {
         "name": "scaffolds",
         "rawType": "object",
         "type": "string"
        },
        {
         "name": "mol",
         "rawType": "object",
         "type": "unknown"
        },
        {
         "name": "mol_weight",
         "rawType": "float64",
         "type": "float"
        },
        {
         "name": "fingerprint",
         "rawType": "object",
         "type": "unknown"
        },
        {
         "name": "fingerprint_array",
         "rawType": "object",
         "type": "unknown"
        },
        {
         "name": "fg_array",
         "rawType": "object",
         "type": "unknown"
        }
       ],
       "ref": "40f2947b-6587-4ac0-9236-09a779fecd2d",
       "rows": [
        [
         "1422591",
         "O=C(O)c1cc(NC(=O)c2ccccc2F)cc(NC(=O)c2ccccc2F)c1",
         "ZASQESYJZCAESE-UHFFFAOYSA-N",
         "['O=[C](O)[R]', 'O=[C]([R])[N]([R])[R]', '[F][R]', 'O=[C]([R])[N]([R])[R]', '[F][R]']",
         "*=C(Nc1cccc(NC(=*)c2ccccc2)c1)c1ccccc1",
         "<rdkit.Chem.rdchem.Mol object at 0x349d55620>",
         "396.3490000000001",
         "<rdkit.DataStructs.cDataStructs.ExplicitBitVect object at 0x363e8daf0>",
         "[0 0 0 ... 0 0 0]",
         "[0 1 0 0]"
        ],
        [
         "860799",
         "COc1cc(/C=C/c2nnc(C(C)c3ccc(F)cc3)[nH]2)ccc1-n1cnc(C)c1",
         "CRJMPGQRVVAATK-VZUCSPMQSA-N",
         "['[R][O][R]', 'C=C', '[F][R]', '[Nar]', '[Nar]', '[Nar]', '[Nar]', '[Nar]']",
         "C(=Cc1nnc(Cc2ccccc2)[nH]1)c1ccc(-n2ccnc2)cc1",
         "<rdkit.Chem.rdchem.Mol object at 0x15bab4970>",
         "403.46100000000007",
         "<rdkit.DataStructs.cDataStructs.ExplicitBitVect object at 0x363e00ac0>",
         "[0 1 0 ... 0 0 0]",
         "[0 0 1 0]"
        ],
        [
         "1314447",
         "COc1cccc(Cc2c(-c3ccccc3)sc(N)c2C(=O)c2ccc(Cl)cc2)c1",
         "UPRXVPZBXSLBPJ-UHFFFAOYSA-N",
         "['[R][O][R]', '[NH2][Car]', 'O=[C]([R])[R]', '[Cl][R]', '[Sar]']",
         "*=C(c1ccccc1)c1csc(-c2ccccc2)c1Cc1ccccc1",
         "<rdkit.Chem.rdchem.Mol object at 0x35d6798c0>",
         "433.96000000000015",
         "<rdkit.DataStructs.cDataStructs.ExplicitBitVect object at 0x363e00b30>",
         "[0 0 0 ... 0 0 0]",
         "[0 0 0 1]"
        ],
        [
         "2221047",
         "COc1c(-c2ccc(F)cc2C)cc(S(=O)(=O)Nc2ccc(F)c(C(=O)O)c2)c2ccccc12",
         "YXQVXPBOVNCAAO-UHFFFAOYSA-N",
         "['[R][O][R]', '[F][R]', 'O=[S](=O)([R])[N]([R])[R]', '[F][R]', 'O=[C](O)[R]']",
         "*=S(=*)(Nc1ccccc1)c1cc(-c2ccccc2)cc2ccccc12",
         "<rdkit.Chem.rdchem.Mol object at 0x36c813b50>",
         "483.49200000000013",
         "<rdkit.DataStructs.cDataStructs.ExplicitBitVect object at 0x363e017e0>",
         "[0 0 0 ... 0 0 0]",
         "[0 1 0 0]"
        ],
        [
         "2230184",
         "CNC(=O)c1cc(Oc2ccc3[nH]c(Nc4ccc(C(F)(F)F)cc4)nc3c2)ccn1",
         "LZVVSWVIESQYLD-UHFFFAOYSA-N",
         "['O=[C]([R])[N]([R])[R]', '[R][O][R]', '[R][NH][R]', '[F][R]', '[F][R]', '[F][R]', '[Nar]', '[Nar]', '[Nar]']",
         "c1ccc(Nc2nc3cc(Oc4ccncc4)ccc3[nH]2)cc1",
         "<rdkit.Chem.rdchem.Mol object at 0x36c83f610>",
         "427.3860000000001",
         "<rdkit.DataStructs.cDataStructs.ExplicitBitVect object at 0x363e018c0>",
         "[0 0 0 ... 0 0 0]",
         "[1 0 0 0]"
        ]
       ],
       "shape": {
        "columns": 9,
        "rows": 5
       }
      },
      "text/html": [
       "<div>\n",
       "<style scoped>\n",
       "    .dataframe tbody tr th:only-of-type {\n",
       "        vertical-align: middle;\n",
       "    }\n",
       "\n",
       "    .dataframe tbody tr th {\n",
       "        vertical-align: top;\n",
       "    }\n",
       "\n",
       "    .dataframe thead th {\n",
       "        text-align: right;\n",
       "    }\n",
       "</style>\n",
       "<table border=\"1\" class=\"dataframe\">\n",
       "  <thead>\n",
       "    <tr style=\"text-align: right;\">\n",
       "      <th></th>\n",
       "      <th>smiles</th>\n",
       "      <th>inchikey</th>\n",
       "      <th>fgs</th>\n",
       "      <th>scaffolds</th>\n",
       "      <th>mol</th>\n",
       "      <th>mol_weight</th>\n",
       "      <th>fingerprint</th>\n",
       "      <th>fingerprint_array</th>\n",
       "      <th>fg_array</th>\n",
       "    </tr>\n",
       "  </thead>\n",
       "  <tbody>\n",
       "    <tr>\n",
       "      <th>1422591</th>\n",
       "      <td>O=C(O)c1cc(NC(=O)c2ccccc2F)cc(NC(=O)c2ccccc2F)c1</td>\n",
       "      <td>ZASQESYJZCAESE-UHFFFAOYSA-N</td>\n",
       "      <td>[O=[C](O)[R], O=[C]([R])[N]([R])[R], [F][R], O...</td>\n",
       "      <td>*=C(Nc1cccc(NC(=*)c2ccccc2)c1)c1ccccc1</td>\n",
       "      <td>&lt;rdkit.Chem.rdchem.Mol object at 0x349d55620&gt;</td>\n",
       "      <td>396.349</td>\n",
       "      <td>[0, 0, 0, 0, 0, 0, 0, 0, 0, 0, 0, 0, 0, 0, 0, ...</td>\n",
       "      <td>[0, 0, 0, 0, 0, 0, 0, 0, 0, 0, 0, 0, 0, 0, 0, ...</td>\n",
       "      <td>[0, 1, 0, 0]</td>\n",
       "    </tr>\n",
       "    <tr>\n",
       "      <th>860799</th>\n",
       "      <td>COc1cc(/C=C/c2nnc(C(C)c3ccc(F)cc3)[nH]2)ccc1-n...</td>\n",
       "      <td>CRJMPGQRVVAATK-VZUCSPMQSA-N</td>\n",
       "      <td>[[R][O][R], C=C, [F][R], [Nar], [Nar], [Nar], ...</td>\n",
       "      <td>C(=Cc1nnc(Cc2ccccc2)[nH]1)c1ccc(-n2ccnc2)cc1</td>\n",
       "      <td>&lt;rdkit.Chem.rdchem.Mol object at 0x15bab4970&gt;</td>\n",
       "      <td>403.461</td>\n",
       "      <td>[0, 1, 0, 0, 0, 0, 0, 0, 0, 0, 0, 0, 0, 0, 0, ...</td>\n",
       "      <td>[0, 1, 0, 0, 0, 0, 0, 0, 0, 0, 0, 0, 0, 0, 0, ...</td>\n",
       "      <td>[0, 0, 1, 0]</td>\n",
       "    </tr>\n",
       "    <tr>\n",
       "      <th>1314447</th>\n",
       "      <td>COc1cccc(Cc2c(-c3ccccc3)sc(N)c2C(=O)c2ccc(Cl)c...</td>\n",
       "      <td>UPRXVPZBXSLBPJ-UHFFFAOYSA-N</td>\n",
       "      <td>[[R][O][R], [NH2][Car], O=[C]([R])[R], [Cl][R]...</td>\n",
       "      <td>*=C(c1ccccc1)c1csc(-c2ccccc2)c1Cc1ccccc1</td>\n",
       "      <td>&lt;rdkit.Chem.rdchem.Mol object at 0x35d6798c0&gt;</td>\n",
       "      <td>433.960</td>\n",
       "      <td>[0, 0, 0, 0, 0, 0, 0, 0, 0, 1, 0, 0, 0, 0, 0, ...</td>\n",
       "      <td>[0, 0, 0, 0, 0, 0, 0, 0, 0, 1, 0, 0, 0, 0, 0, ...</td>\n",
       "      <td>[0, 0, 0, 1]</td>\n",
       "    </tr>\n",
       "    <tr>\n",
       "      <th>2221047</th>\n",
       "      <td>COc1c(-c2ccc(F)cc2C)cc(S(=O)(=O)Nc2ccc(F)c(C(=...</td>\n",
       "      <td>YXQVXPBOVNCAAO-UHFFFAOYSA-N</td>\n",
       "      <td>[[R][O][R], [F][R], O=[S](=O)([R])[N]([R])[R],...</td>\n",
       "      <td>*=S(=*)(Nc1ccccc1)c1cc(-c2ccccc2)cc2ccccc12</td>\n",
       "      <td>&lt;rdkit.Chem.rdchem.Mol object at 0x36c813b50&gt;</td>\n",
       "      <td>483.492</td>\n",
       "      <td>[0, 0, 0, 0, 0, 0, 0, 0, 0, 0, 0, 0, 0, 0, 0, ...</td>\n",
       "      <td>[0, 0, 0, 0, 0, 0, 0, 0, 0, 0, 0, 0, 0, 0, 0, ...</td>\n",
       "      <td>[0, 1, 0, 0]</td>\n",
       "    </tr>\n",
       "    <tr>\n",
       "      <th>2230184</th>\n",
       "      <td>CNC(=O)c1cc(Oc2ccc3[nH]c(Nc4ccc(C(F)(F)F)cc4)n...</td>\n",
       "      <td>LZVVSWVIESQYLD-UHFFFAOYSA-N</td>\n",
       "      <td>[O=[C]([R])[N]([R])[R], [R][O][R], [R][NH][R],...</td>\n",
       "      <td>c1ccc(Nc2nc3cc(Oc4ccncc4)ccc3[nH]2)cc1</td>\n",
       "      <td>&lt;rdkit.Chem.rdchem.Mol object at 0x36c83f610&gt;</td>\n",
       "      <td>427.386</td>\n",
       "      <td>[0, 0, 0, 0, 0, 0, 0, 0, 0, 0, 0, 0, 0, 0, 0, ...</td>\n",
       "      <td>[0, 0, 0, 0, 0, 0, 0, 0, 0, 0, 0, 0, 0, 0, 0, ...</td>\n",
       "      <td>[1, 0, 0, 0]</td>\n",
       "    </tr>\n",
       "  </tbody>\n",
       "</table>\n",
       "</div>"
      ],
      "text/plain": [
       "                                                    smiles  \\\n",
       "1422591   O=C(O)c1cc(NC(=O)c2ccccc2F)cc(NC(=O)c2ccccc2F)c1   \n",
       "860799   COc1cc(/C=C/c2nnc(C(C)c3ccc(F)cc3)[nH]2)ccc1-n...   \n",
       "1314447  COc1cccc(Cc2c(-c3ccccc3)sc(N)c2C(=O)c2ccc(Cl)c...   \n",
       "2221047  COc1c(-c2ccc(F)cc2C)cc(S(=O)(=O)Nc2ccc(F)c(C(=...   \n",
       "2230184  CNC(=O)c1cc(Oc2ccc3[nH]c(Nc4ccc(C(F)(F)F)cc4)n...   \n",
       "\n",
       "                            inchikey  \\\n",
       "1422591  ZASQESYJZCAESE-UHFFFAOYSA-N   \n",
       "860799   CRJMPGQRVVAATK-VZUCSPMQSA-N   \n",
       "1314447  UPRXVPZBXSLBPJ-UHFFFAOYSA-N   \n",
       "2221047  YXQVXPBOVNCAAO-UHFFFAOYSA-N   \n",
       "2230184  LZVVSWVIESQYLD-UHFFFAOYSA-N   \n",
       "\n",
       "                                                       fgs  \\\n",
       "1422591  [O=[C](O)[R], O=[C]([R])[N]([R])[R], [F][R], O...   \n",
       "860799   [[R][O][R], C=C, [F][R], [Nar], [Nar], [Nar], ...   \n",
       "1314447  [[R][O][R], [NH2][Car], O=[C]([R])[R], [Cl][R]...   \n",
       "2221047  [[R][O][R], [F][R], O=[S](=O)([R])[N]([R])[R],...   \n",
       "2230184  [O=[C]([R])[N]([R])[R], [R][O][R], [R][NH][R],...   \n",
       "\n",
       "                                            scaffolds  \\\n",
       "1422591        *=C(Nc1cccc(NC(=*)c2ccccc2)c1)c1ccccc1   \n",
       "860799   C(=Cc1nnc(Cc2ccccc2)[nH]1)c1ccc(-n2ccnc2)cc1   \n",
       "1314447      *=C(c1ccccc1)c1csc(-c2ccccc2)c1Cc1ccccc1   \n",
       "2221047   *=S(=*)(Nc1ccccc1)c1cc(-c2ccccc2)cc2ccccc12   \n",
       "2230184        c1ccc(Nc2nc3cc(Oc4ccncc4)ccc3[nH]2)cc1   \n",
       "\n",
       "                                                   mol  mol_weight  \\\n",
       "1422591  <rdkit.Chem.rdchem.Mol object at 0x349d55620>     396.349   \n",
       "860799   <rdkit.Chem.rdchem.Mol object at 0x15bab4970>     403.461   \n",
       "1314447  <rdkit.Chem.rdchem.Mol object at 0x35d6798c0>     433.960   \n",
       "2221047  <rdkit.Chem.rdchem.Mol object at 0x36c813b50>     483.492   \n",
       "2230184  <rdkit.Chem.rdchem.Mol object at 0x36c83f610>     427.386   \n",
       "\n",
       "                                               fingerprint  \\\n",
       "1422591  [0, 0, 0, 0, 0, 0, 0, 0, 0, 0, 0, 0, 0, 0, 0, ...   \n",
       "860799   [0, 1, 0, 0, 0, 0, 0, 0, 0, 0, 0, 0, 0, 0, 0, ...   \n",
       "1314447  [0, 0, 0, 0, 0, 0, 0, 0, 0, 1, 0, 0, 0, 0, 0, ...   \n",
       "2221047  [0, 0, 0, 0, 0, 0, 0, 0, 0, 0, 0, 0, 0, 0, 0, ...   \n",
       "2230184  [0, 0, 0, 0, 0, 0, 0, 0, 0, 0, 0, 0, 0, 0, 0, ...   \n",
       "\n",
       "                                         fingerprint_array      fg_array  \n",
       "1422591  [0, 0, 0, 0, 0, 0, 0, 0, 0, 0, 0, 0, 0, 0, 0, ...  [0, 1, 0, 0]  \n",
       "860799   [0, 1, 0, 0, 0, 0, 0, 0, 0, 0, 0, 0, 0, 0, 0, ...  [0, 0, 1, 0]  \n",
       "1314447  [0, 0, 0, 0, 0, 0, 0, 0, 0, 1, 0, 0, 0, 0, 0, ...  [0, 0, 0, 1]  \n",
       "2221047  [0, 0, 0, 0, 0, 0, 0, 0, 0, 0, 0, 0, 0, 0, 0, ...  [0, 1, 0, 0]  \n",
       "2230184  [0, 0, 0, 0, 0, 0, 0, 0, 0, 0, 0, 0, 0, 0, 0, ...  [1, 0, 0, 0]  "
      ]
     },
     "execution_count": 81,
     "metadata": {},
     "output_type": "execute_result"
    }
   ],
   "source": [
    "sampled.head()"
   ]
  }
 ],
 "metadata": {
  "kernelspec": {
   "display_name": "rdkit-thesis",
   "language": "python",
   "name": "python3"
  },
  "language_info": {
   "codemirror_mode": {
    "name": "ipython",
    "version": 3
   },
   "file_extension": ".py",
   "mimetype": "text/x-python",
   "name": "python",
   "nbconvert_exporter": "python",
   "pygments_lexer": "ipython3",
   "version": "3.13.3"
  }
 },
 "nbformat": 4,
 "nbformat_minor": 5
}
