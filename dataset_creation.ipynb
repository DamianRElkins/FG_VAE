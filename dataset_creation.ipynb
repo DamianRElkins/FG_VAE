{
 "cells": [
  {
   "cell_type": "markdown",
   "id": "96515341",
   "metadata": {},
   "source": [
    "# **Dataset Creation**\n",
    "### Notebook for the testing and development of a methodology for creating a fully labelled dataset of molecules and their functional groups."
   ]
  },
  {
   "cell_type": "code",
   "execution_count": null,
   "id": "3e347fb5",
   "metadata": {},
   "outputs": [],
   "source": [
    "import rdkit.Chem as Chem\n",
    "from joblib import Parallel, delayed\n",
    "import pandas as pd\n",
    "import pickle\n",
    "import os\n",
    "import math\n",
    "\n",
    "from fg_funcs import save_chunk_results, safe_mol_from_smiles, compute_scaffold_safe, compute_efgs_safe"
   ]
  },
  {
   "cell_type": "markdown",
   "id": "62e714f8",
   "metadata": {},
   "source": [
    "## Dataset Creation\n",
    "#### Starting with the small Pec50 data"
   ]
  },
  {
   "cell_type": "markdown",
   "id": "f218e51f",
   "metadata": {},
   "source": [
    "## Chembl Dataset"
   ]
  },
  {
   "cell_type": "code",
   "execution_count": null,
   "id": "f47d70a3",
   "metadata": {},
   "outputs": [],
   "source": [
    "# Load the chembl data\n",
    "chembl_data = pd.read_csv('data/chembl_35_cleaned.csv',header=None, names=['smiles'])"
   ]
  },
  {
   "cell_type": "code",
   "execution_count": null,
   "id": "7f8cfc35",
   "metadata": {},
   "outputs": [],
   "source": [
    "# 1. Convert SMILES to RDKit Mol\n",
    "chembl_data['rdkit_mol'] = chembl_data['smiles'].apply(safe_mol_from_smiles)\n",
    "print('Converted SMILES to RDKit Mol objects for ChEMBL dataset.')\n",
    "\n",
    "\n",
    "# 2. Generate InChIKeys\n",
    "chembl_data['inchikey'] = chembl_data['rdkit_mol'].apply(\n",
    "    lambda mol: Chem.MolToInchiKey(mol) if mol is not None else None\n",
    ")\n",
    "print('Generated InChIKeys for ChEMBL dataset.')"
   ]
  },
  {
   "cell_type": "code",
   "execution_count": null,
   "id": "c6b472c8",
   "metadata": {},
   "outputs": [],
   "source": [
    "# Drop rows with None values in 'rdkit_mol' or 'inchikey'\n",
    "chembl_data = chembl_data.dropna(subset=['rdkit_mol', 'inchikey'])"
   ]
  },
  {
   "cell_type": "code",
   "execution_count": null,
   "id": "50f23938",
   "metadata": {},
   "outputs": [],
   "source": [
    "# Configuration\n",
    "chunk_size = 100000\n",
    "output_dir = \"chembl_chunks\"\n",
    "os.makedirs(output_dir, exist_ok=True)"
   ]
  },
  {
   "cell_type": "code",
   "execution_count": null,
   "id": "688a8a9d",
   "metadata": {},
   "outputs": [],
   "source": [
    "total_mols = len(chembl_data)\n",
    "num_chunks = math.ceil(total_mols / chunk_size)"
   ]
  },
  {
   "cell_type": "code",
   "execution_count": null,
   "id": "ed1d0f22",
   "metadata": {},
   "outputs": [],
   "source": [
    "# Process in chunks\n",
    "for chunk_idx in range(num_chunks):\n",
    "    start = chunk_idx * chunk_size\n",
    "    end = min((chunk_idx + 1) * chunk_size, total_mols)\n",
    "    \n",
    "    print(f\"Processing chunk {chunk_idx + 1}/{num_chunks} ({start}:{end})...\")\n",
    "    mols_chunk = chembl_data['rdkit_mol'].iloc[start:end]\n",
    "\n",
    "    # Only compute if the file doesn't already exist (for resumability)\n",
    "    chunk_file = os.path.join(output_dir, f\"chunk_{chunk_idx}.pkl\")\n",
    "    if not os.path.exists(chunk_file):\n",
    "        chunk_results = Parallel(n_jobs=-1)(\n",
    "            delayed(compute_efgs_safe)(mol) for mol in mols_chunk\n",
    "        )\n",
    "        save_chunk_results(output_dir, chunk_idx, chunk_results)\n",
    "    else:\n",
    "        print(f\"Chunk {chunk_idx + 1} already computed, skipping.\")\n",
    "\n",
    "# Recombine results\n",
    "all_results = []\n",
    "for chunk_idx in range(num_chunks):\n",
    "    with open(os.path.join(output_dir, f\"chunk_{chunk_idx}.pkl\"), \"rb\") as f:\n",
    "        chunk_results = pickle.load(f)\n",
    "        all_results.extend(chunk_results)\n",
    "\n",
    "# Store or attach results\n",
    "chembl_data['psmis'] = all_results\n",
    "print('All PSMIs added to ChEMBL dataset.')"
   ]
  },
  {
   "cell_type": "code",
   "execution_count": null,
   "id": "2b0d0a76",
   "metadata": {},
   "outputs": [],
   "source": [
    "print(all_results[0])  # Print the first result to verify"
   ]
  },
  {
   "cell_type": "code",
   "execution_count": null,
   "id": "dc5f4622",
   "metadata": {},
   "outputs": [],
   "source": [
    "# Config\n",
    "chunk_size = 100000\n",
    "scaffold_output_dir = \"chembl_scaffold_chunks\"\n",
    "os.makedirs(scaffold_output_dir, exist_ok=True)\n",
    "\n",
    "total_mols = len(chembl_data)\n",
    "num_chunks = math.ceil(total_mols / chunk_size)"
   ]
  },
  {
   "cell_type": "code",
   "execution_count": null,
   "id": "b1943a3d",
   "metadata": {},
   "outputs": [],
   "source": [
    "# Chunked scaffold computation\n",
    "for chunk_idx in range(num_chunks):\n",
    "    start = chunk_idx * chunk_size\n",
    "    end = min((chunk_idx + 1) * chunk_size, total_mols)\n",
    "\n",
    "    print(f\"Processing scaffold chunk {chunk_idx + 1}/{num_chunks} ({start}:{end})...\")\n",
    "    mols_chunk = chembl_data['rdkit_mol'].iloc[start:end]\n",
    "\n",
    "    chunk_file = os.path.join(scaffold_output_dir, f\"chunk_{chunk_idx}.pkl\")\n",
    "    if not os.path.exists(chunk_file):\n",
    "        # Compute scaffold mols\n",
    "        scaffold_mols = Parallel(n_jobs=-1)(\n",
    "            delayed(compute_scaffold_safe)(mol) for mol in mols_chunk\n",
    "        )\n",
    "        # Convert to SMILES\n",
    "        scaffold_smiles = [\n",
    "            Chem.MolToSmiles(mol) if mol else None for mol in scaffold_mols\n",
    "        ]\n",
    "        save_chunk_results(scaffold_output_dir, chunk_idx, scaffold_smiles)\n",
    "    else:\n",
    "        print(f\"Scaffold chunk {chunk_idx + 1} already computed, skipping.\")\n",
    "\n",
    "# Recombine scaffold SMILES\n",
    "all_scaffold_smiles = []\n",
    "for chunk_idx in range(num_chunks):\n",
    "    with open(os.path.join(scaffold_output_dir, f\"chunk_{chunk_idx}.pkl\"), \"rb\") as f:\n",
    "        scaffold_smiles = pickle.load(f)\n",
    "        all_scaffold_smiles.extend(scaffold_smiles)\n",
    "\n",
    "# Store in DataFrame\n",
    "chembl_data['scaffolds'] = all_scaffold_smiles\n",
    "print('All scaffolds (as SMILES) added to ChEMBL dataset.')\n"
   ]
  },
  {
   "cell_type": "code",
   "execution_count": null,
   "id": "5908a0a8",
   "metadata": {},
   "outputs": [],
   "source": [
    "chembl_data_final = chembl_data[['smiles', 'inchikey', 'psmis', 'scaffolds']]\n",
    "chembl_data_final.rename(columns={'psmis': 'fgs'}, inplace=True)\n",
    "chembl_data_final.to_csv('data/chembl_35_fg_scaf.csv', index=False)"
   ]
  }
 ],
 "metadata": {
  "kernelspec": {
   "display_name": "rdkit-thesis",
   "language": "python",
   "name": "python3"
  },
  "language_info": {
   "codemirror_mode": {
    "name": "ipython",
    "version": 3
   },
   "file_extension": ".py",
   "mimetype": "text/x-python",
   "name": "python",
   "nbconvert_exporter": "python",
   "pygments_lexer": "ipython3",
   "version": "3.13.3"
  }
 },
 "nbformat": 4,
 "nbformat_minor": 5
}
