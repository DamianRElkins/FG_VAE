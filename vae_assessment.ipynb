{
 "cells": [
  {
   "cell_type": "code",
   "execution_count": 1,
   "id": "5e35dc1d",
   "metadata": {},
   "outputs": [
    {
     "name": "stderr",
     "output_type": "stream",
     "text": [
      "/Users/damianelkins/miniconda3/envs/rdkit-thesis/lib/python3.13/site-packages/tqdm/auto.py:21: TqdmWarning: IProgress not found. Please update jupyter and ipywidgets. See https://ipywidgets.readthedocs.io/en/stable/user_install.html\n",
      "  from .autonotebook import tqdm as notebook_tqdm\n"
     ]
    }
   ],
   "source": [
    "from fg_funcs import save_model\n",
    "from full_vae import train_base_model, train_conditional_vae, train_conditional_subspace_vae, train_discover_vae\n",
    "import pandas as pd\n",
    "import numpy as np\n",
    "import torch"
   ]
  },
  {
   "cell_type": "code",
   "execution_count": 2,
   "id": "16ce4f19",
   "metadata": {},
   "outputs": [],
   "source": [
    "# Load the curated dataset\n",
    "curated_dataset = pd.read_pickle('data/chembl_35_fg_scaf_curated.pkl')\n",
    "\n",
    "# Convert the fingerprint to numpy arrays\n",
    "curated_dataset['fingerprint_array'] = curated_dataset['fingerprint_array'].apply(lambda x: x if isinstance(x, np.ndarray) else np.zeros((2048,), dtype=int))"
   ]
  },
  {
   "cell_type": "code",
   "execution_count": 3,
   "id": "473142d3",
   "metadata": {},
   "outputs": [
    {
     "name": "stdout",
     "output_type": "stream",
     "text": [
      "Training DISCoVeR VAE model...\n"
     ]
    },
    {
     "name": "stderr",
     "output_type": "stream",
     "text": [
      "💡 Tip: For seamless cloud uploads and versioning, try installing [litmodels](https://pypi.org/project/litmodels/) to enable LitModelCheckpoint, which syncs automatically with the Lightning model registry.\n",
      "GPU available: True (mps), used: True\n",
      "TPU available: False, using: 0 TPU cores\n",
      "HPU available: False, using: 0 HPUs\n",
      "\u001b[34m\u001b[1mwandb\u001b[0m: Currently logged in as: \u001b[33mdamianrelkins\u001b[0m (\u001b[33mdamianrelkins-university-college-london-ucl-\u001b[0m) to \u001b[32mhttps://api.wandb.ai\u001b[0m. Use \u001b[1m`wandb login --relogin`\u001b[0m to force relogin\n"
     ]
    },
    {
     "data": {
      "text/html": [
       "Tracking run with wandb version 0.21.0"
      ],
      "text/plain": [
       "<IPython.core.display.HTML object>"
      ]
     },
     "metadata": {},
     "output_type": "display_data"
    },
    {
     "data": {
      "text/html": [
       "Run data is saved locally in <code>./wandb/run-20250821_164620-pyul3jub</code>"
      ],
      "text/plain": [
       "<IPython.core.display.HTML object>"
      ]
     },
     "metadata": {},
     "output_type": "display_data"
    },
    {
     "data": {
      "text/html": [
       "Syncing run <strong><a href='https://wandb.ai/damianrelkins-university-college-london-ucl-/fg_discover_vae_4/runs/pyul3jub' target=\"_blank\">glad-snow-1</a></strong> to <a href='https://wandb.ai/damianrelkins-university-college-london-ucl-/fg_discover_vae_4' target=\"_blank\">Weights & Biases</a> (<a href='https://wandb.me/developer-guide' target=\"_blank\">docs</a>)<br>"
      ],
      "text/plain": [
       "<IPython.core.display.HTML object>"
      ]
     },
     "metadata": {},
     "output_type": "display_data"
    },
    {
     "data": {
      "text/html": [
       " View project at <a href='https://wandb.ai/damianrelkins-university-college-london-ucl-/fg_discover_vae_4' target=\"_blank\">https://wandb.ai/damianrelkins-university-college-london-ucl-/fg_discover_vae_4</a>"
      ],
      "text/plain": [
       "<IPython.core.display.HTML object>"
      ]
     },
     "metadata": {},
     "output_type": "display_data"
    },
    {
     "data": {
      "text/html": [
       " View run at <a href='https://wandb.ai/damianrelkins-university-college-london-ucl-/fg_discover_vae_4/runs/pyul3jub' target=\"_blank\">https://wandb.ai/damianrelkins-university-college-london-ucl-/fg_discover_vae_4/runs/pyul3jub</a>"
      ],
      "text/plain": [
       "<IPython.core.display.HTML object>"
      ]
     },
     "metadata": {},
     "output_type": "display_data"
    },
    {
     "name": "stderr",
     "output_type": "stream",
     "text": [
      "\n",
      "  | Name                     | Type        | Params | Mode \n",
      "-----------------------------------------------------------------\n",
      "0 | model                    | DiscoverVAE | 10.5 M | train\n",
      "1 | reconstruction_loss_func | BCELoss     | 0      | train\n",
      "2 | adversarial_loss_func    | BCELoss     | 0      | train\n",
      "-----------------------------------------------------------------\n",
      "10.5 M    Trainable params\n",
      "0         Non-trainable params\n",
      "10.5 M    Total params\n",
      "42.092    Total estimated model params size (MB)\n",
      "69        Modules in train mode\n",
      "0         Modules in eval mode\n"
     ]
    },
    {
     "name": "stdout",
     "output_type": "stream",
     "text": [
      "Sanity Checking: |          | 0/? [00:00<?, ?it/s]"
     ]
    },
    {
     "name": "stderr",
     "output_type": "stream",
     "text": [
      "/Users/damianelkins/miniconda3/envs/rdkit-thesis/lib/python3.13/site-packages/pytorch_lightning/trainer/connectors/data_connector.py:425: The 'val_dataloader' does not have many workers which may be a bottleneck. Consider increasing the value of the `num_workers` argument` to `num_workers=9` in the `DataLoader` to improve performance.\n"
     ]
    },
    {
     "name": "stdout",
     "output_type": "stream",
     "text": [
      "                                                                           "
     ]
    },
    {
     "name": "stderr",
     "output_type": "stream",
     "text": [
      "/Users/damianelkins/miniconda3/envs/rdkit-thesis/lib/python3.13/site-packages/pytorch_lightning/trainer/connectors/data_connector.py:425: The 'train_dataloader' does not have many workers which may be a bottleneck. Consider increasing the value of the `num_workers` argument` to `num_workers=9` in the `DataLoader` to improve performance.\n"
     ]
    },
    {
     "name": "stdout",
     "output_type": "stream",
     "text": [
      "Epoch 4: 100%|██████████| 1250/1250 [01:09<00:00, 18.07it/s, v_num=3jub, val_total_loss=0.506]"
     ]
    },
    {
     "name": "stderr",
     "output_type": "stream",
     "text": [
      "`Trainer.fit` stopped: `max_epochs=5` reached.\n"
     ]
    },
    {
     "name": "stdout",
     "output_type": "stream",
     "text": [
      "Epoch 4: 100%|██████████| 1250/1250 [01:09<00:00, 18.07it/s, v_num=3jub, val_total_loss=0.506]\n"
     ]
    },
    {
     "name": "stderr",
     "output_type": "stream",
     "text": [
      "/Users/damianelkins/miniconda3/envs/rdkit-thesis/lib/python3.13/site-packages/pytorch_lightning/trainer/connectors/data_connector.py:425: The 'test_dataloader' does not have many workers which may be a bottleneck. Consider increasing the value of the `num_workers` argument` to `num_workers=9` in the `DataLoader` to improve performance.\n"
     ]
    },
    {
     "name": "stdout",
     "output_type": "stream",
     "text": [
      "Testing DataLoader 0: 100%|██████████| 63/63 [00:01<00:00, 61.16it/s]\n",
      "────────────────────────────────────────────────────────────────────────────────────────────────────────────────────────\n",
      "       Test metric             DataLoader 0\n",
      "────────────────────────────────────────────────────────────────────────────────────────────────────────────────────────\n",
      "      test_adv_disc         0.5209407806396484\n",
      "       test_kld_w         2.0425319235073403e-05\n",
      "       test_kld_z           0.0058710603043437\n",
      "     test_recon_full        0.08324535936117172\n",
      "      test_recon_z          0.08326572179794312\n",
      "     test_total_loss        0.5041179656982422\n",
      "────────────────────────────────────────────────────────────────────────────────────────────────────────────────────────\n",
      "DISCoVeR model trained and saved as 'models/small_models/DISCoVeR_vae_model.pth'\n"
     ]
    }
   ],
   "source": [
    "MODELS = ['DISCoVeR']  # List of models to train\n",
    "MODEL_OUTPUT = 'models/small_models'  # Directory to save trained models\n",
    "dataset = curated_dataset  # Use the curated dataset for training\n",
    "\n",
    "# Train all VAE models on curated dataset\n",
    "latent_dim = 16  # Example latent dimension\n",
    "encoder_hidden_dims = [1024, 512, 256, 128]\n",
    "decoder_hidden_dims = [128, 256, 1024]  \n",
    "decoder_z_hidden_dims = [128, 256, 1024]  # Decoder layers for DISCoVeR\n",
    "latent_dim_z = 16 # for CSVAE and DISCoVeR\n",
    "latent_dim_w = 16 # for CSVAE and DISCoVeR\n",
    "encoder_hidden_dims_z = [1024, 512, 256, 128] # for CSVAE and DISCoVeR\n",
    "encoder_hidden_dims_w = [1024, 512, 256, 128] # for CSVAE and DISCoVeR\n",
    "adversarial_hidden_dims = [64] \n",
    "batch_size = 64\n",
    "learning_rate = 1e-3\n",
    "max_epochs = 5\n",
    "\n",
    "\n",
    "for MODEL in MODELS:\n",
    "\n",
    "    torch.manual_seed(42)\n",
    "\n",
    "    if MODEL is None:\n",
    "        raise ValueError(\"MODEL must be defined before training.\")\n",
    "    elif MODEL == 'Base':\n",
    "\n",
    "        print(\"Training BaseVAE model...\")\n",
    "\n",
    "        input_dim = len(dataset['fingerprint_array'].iloc[0])\n",
    "        fg_dim = len(dataset['fg_array'].iloc[0])\n",
    "\n",
    "        vae_trainer = train_base_model(\n",
    "            dataset=dataset,\n",
    "            input_dim=input_dim,\n",
    "            latent_dim=latent_dim,\n",
    "            fg_dim=fg_dim,  # BaseVAE does not use fg_array for logging purposes only\n",
    "            encoder_hidden_dims=encoder_hidden_dims,\n",
    "            decoder_hidden_dims=decoder_hidden_dims,\n",
    "            batch_size=batch_size,\n",
    "            learning_rate=learning_rate,\n",
    "            max_epochs=max_epochs\n",
    "        )\n",
    "\n",
    "        save_model(vae_trainer, MODEL_OUTPUT, MODEL)\n",
    "\n",
    "    elif MODEL == 'CVAE':\n",
    "\n",
    "        print(\"Training CVAE model...\")\n",
    "\n",
    "        fingerprint_dim = len(dataset['fingerprint_array'].iloc[0])\n",
    "        fg_dim = len(dataset['fg_array'].iloc[0])\n",
    "\n",
    "        vae_trainer = train_conditional_vae(\n",
    "            dataset=dataset,\n",
    "            fingerprint_dim=fingerprint_dim,\n",
    "            fg_dim=fg_dim,\n",
    "            latent_dim=latent_dim,\n",
    "            encoder_hidden_dims=encoder_hidden_dims,\n",
    "            decoder_hidden_dims=decoder_hidden_dims,\n",
    "            batch_size=batch_size,\n",
    "            learning_rate=learning_rate,\n",
    "            max_epochs=max_epochs\n",
    "        )\n",
    "\n",
    "        save_model(vae_trainer, MODEL_OUTPUT, MODEL)\n",
    "\n",
    "    elif MODEL == 'CSVAE':\n",
    "            \n",
    "            print(\"Training CSVAE model based on the NeurIPS 2018 paper...\")\n",
    "\n",
    "            fingerprint_dim = len(dataset['fingerprint_array'].iloc[0])\n",
    "            fg_dim = len(dataset['fg_array'].iloc[0])\n",
    "\n",
    "            vae_trainer = train_conditional_subspace_vae(\n",
    "                dataset=dataset,\n",
    "                fingerprint_dim=fingerprint_dim,\n",
    "                fg_dim=fg_dim,\n",
    "                latent_dim_z=latent_dim_z,\n",
    "                latent_dim_w=latent_dim_w,\n",
    "                encoder_hidden_dims_z=encoder_hidden_dims_z,\n",
    "                encoder_hidden_dims_w=encoder_hidden_dims_w,\n",
    "                decoder_hidden_dims=decoder_hidden_dims,\n",
    "                adversarial_hidden_dims=adversarial_hidden_dims,\n",
    "                batch_size=batch_size,\n",
    "                learning_rate=learning_rate,\n",
    "                max_epochs=max_epochs\n",
    "            )\n",
    "            save_model(vae_trainer, MODEL_OUTPUT, MODEL)\n",
    "\n",
    "    elif MODEL == 'DISCoVeR':\n",
    "            \n",
    "            print(\"Training DISCoVeR VAE model...\")\n",
    "\n",
    "            fingerprint_dim = len(dataset['fingerprint_array'].iloc[0])\n",
    "            fg_dim = len(dataset['fg_array'].iloc[0])\n",
    "\n",
    "            vae_trainer = train_discover_vae(\n",
    "                dataset=dataset,\n",
    "                fingerprint_dim=fingerprint_dim,\n",
    "                fg_dim=fg_dim,\n",
    "                latent_dim_z=latent_dim_z,\n",
    "                latent_dim_w=latent_dim_w,\n",
    "                encoder_hidden_dims_z=encoder_hidden_dims_z,\n",
    "                encoder_hidden_dims_w=encoder_hidden_dims_w,\n",
    "                decoder_hidden_dims=decoder_hidden_dims,\n",
    "                decoder_z_hidden_dims=decoder_z_hidden_dims,\n",
    "                adversarial_hidden_dims=adversarial_hidden_dims,\n",
    "                batch_size=batch_size,\n",
    "                learning_rate=learning_rate,\n",
    "                max_epochs=max_epochs\n",
    "            )\n",
    "            save_model(vae_trainer, MODEL_OUTPUT, MODEL)\n",
    "\n",
    "    # Free memory after each model\n",
    "    del vae_trainer"
   ]
  }
 ],
 "metadata": {
  "kernelspec": {
   "display_name": "rdkit-thesis",
   "language": "python",
   "name": "python3"
  },
  "language_info": {
   "codemirror_mode": {
    "name": "ipython",
    "version": 3
   },
   "file_extension": ".py",
   "mimetype": "text/x-python",
   "name": "python",
   "nbconvert_exporter": "python",
   "pygments_lexer": "ipython3",
   "version": "3.13.3"
  }
 },
 "nbformat": 4,
 "nbformat_minor": 5
}
