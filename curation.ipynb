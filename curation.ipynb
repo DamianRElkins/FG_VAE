{
 "cells": [
  {
   "cell_type": "code",
   "execution_count": 1,
   "id": "70e81113",
   "metadata": {},
   "outputs": [
    {
     "name": "stderr",
     "output_type": "stream",
     "text": [
      "/Users/damianelkins/miniconda3/envs/rdkit-thesis/lib/python3.13/site-packages/tqdm/auto.py:21: TqdmWarning: IProgress not found. Please update jupyter and ipywidgets. See https://ipywidgets.readthedocs.io/en/stable/user_install.html\n",
      "  from .autonotebook import tqdm as notebook_tqdm\n"
     ]
    }
   ],
   "source": [
    "import pandas as pd\n",
    "from rdkit.Chem import Descriptors\n",
    "import pickle\n",
    "import os\n",
    "import numpy as np\n",
    "import matplotlib.pyplot as plt\n",
    "\n",
    "from fg_funcs import mol_to_fingerprint, safe_mol_from_smiles, fg_to_array, fp_to_array"
   ]
  },
  {
   "cell_type": "code",
   "execution_count": 2,
   "id": "edfdbb7f",
   "metadata": {},
   "outputs": [],
   "source": [
    "# Load the dataset\n",
    "data_path = 'data/chembl_35_fg_scaf.csv'\n",
    "if os.path.exists(data_path):\n",
    "    chembl = pd.read_csv(data_path)\n",
    "else:\n",
    "    raise FileNotFoundError(f\"Dataset not found at {data_path}\")"
   ]
  },
  {
   "cell_type": "code",
   "execution_count": 3,
   "id": "84a1b732",
   "metadata": {},
   "outputs": [],
   "source": [
    "# Convert each fgs entry to a list\n",
    "chembl['fgs'] = chembl['fgs'].apply(lambda x: eval(x) if isinstance(x, str) else x)\n",
    "\n",
    "# drop rows with empty fgs\n",
    "chembl = chembl[chembl['fgs'].notna() & (chembl['fgs'].str.len() > 0)]"
   ]
  },
  {
   "cell_type": "code",
   "execution_count": 4,
   "id": "148db81b",
   "metadata": {},
   "outputs": [
    {
     "name": "stdout",
     "output_type": "stream",
     "text": [
      "['[Nar]', '[R][O][R]', 'O=[C]([R])[N]([R])[R]', '[F][R]', '[R][N]([R])[R]', '[Cl][R]', '[OH][Cal]', '[R][NH][R]', '[O]=[Car]', '[OH][Car]', '[Sar]', '[Oar]', 'O=[C]([R])[O][R]', 'O=[C](O)[R]', 'O=[S](=O)([R])[N]([R])[R]', 'C=C', 'O=[C]([R])[R]', '[R][S][R]', '[NH2][Car]', '[R][Br]']\n"
     ]
    }
   ],
   "source": [
    "# Currate dataset using 4 functional groups\n",
    "fgs_list = []\n",
    "for fgs in chembl['fgs']:\n",
    "    if isinstance(fgs, list):\n",
    "        fgs_list.extend(fgs)\n",
    "sorted_fgs = pd.Series(fgs_list).value_counts().head(20).index.tolist()\n",
    "\n",
    "print(sorted_fgs)\n"
   ]
  },
  {
   "cell_type": "code",
   "execution_count": 5,
   "id": "73139aa6",
   "metadata": {},
   "outputs": [
    {
     "name": "stdout",
     "output_type": "stream",
     "text": [
      "[Nar]                              3188978\n",
      "[R][O][R]                          1322479\n",
      "O=[C]([R])[N]([R])[R]              1249000\n",
      "[F][R]                              962042\n",
      "[R][N]([R])[R]                      699809\n",
      "                                    ...   \n",
      "O=[C]1N=C([N]([R])[R])C=[N][R]1          1\n",
      "C=COP(=O)([O][R])[O][R]                  1\n",
      "[O-][S+]([R])C(C=[N][R])=CO              1\n",
      "C=CC(F)=CC=CC(=O)O                       1\n",
      "C=CN(C=C)C(=O)C(=C)C#N                   1\n",
      "Name: count, Length: 14630, dtype: int64\n",
      "13959\n"
     ]
    }
   ],
   "source": [
    "print(pd.Series(fgs_list).value_counts())\n",
    "\n",
    "# Get how many fgs have more than 1000 occurrences\n",
    "print((pd.Series(fgs_list).value_counts() < 100).sum())\n"
   ]
  },
  {
   "cell_type": "code",
   "execution_count": 6,
   "id": "20359879",
   "metadata": {},
   "outputs": [
    {
     "data": {
      "text/plain": [
       "(717003, 4)"
      ]
     },
     "execution_count": 6,
     "metadata": {},
     "output_type": "execute_result"
    }
   ],
   "source": [
    "curation_fgs = ['[R][NH][R]', 'O=[C](O)[R]', 'C=C', '[NH2][Car]']\n",
    "chembl_curated = chembl[chembl['fgs'].apply(lambda x: any(fg in x for fg in curation_fgs))]\n",
    "chembl_curated.shape"
   ]
  },
  {
   "cell_type": "code",
   "execution_count": 7,
   "id": "a33d9a77",
   "metadata": {},
   "outputs": [
    {
     "name": "stderr",
     "output_type": "stream",
     "text": [
      "/var/folders/r4/3wxjq8t93d76lfkb5vmhrlpr0000gn/T/ipykernel_6979/2713019006.py:2: SettingWithCopyWarning: \n",
      "A value is trying to be set on a copy of a slice from a DataFrame.\n",
      "Try using .loc[row_indexer,col_indexer] = value instead\n",
      "\n",
      "See the caveats in the documentation: https://pandas.pydata.org/pandas-docs/stable/user_guide/indexing.html#returning-a-view-versus-a-copy\n",
      "  chembl_curated['mol'] = chembl_curated['smiles'].apply(safe_mol_from_smiles)\n"
     ]
    },
    {
     "data": {
      "application/vnd.microsoft.datawrangler.viewer.v0+json": {
       "columns": [
        {
         "name": "index",
         "rawType": "int64",
         "type": "integer"
        },
        {
         "name": "smiles",
         "rawType": "object",
         "type": "string"
        },
        {
         "name": "inchikey",
         "rawType": "object",
         "type": "string"
        },
        {
         "name": "fgs",
         "rawType": "object",
         "type": "unknown"
        },
        {
         "name": "scaffolds",
         "rawType": "object",
         "type": "unknown"
        },
        {
         "name": "mol",
         "rawType": "object",
         "type": "unknown"
        }
       ],
       "ref": "730bfbd4-9793-455d-bf5e-506e34d89238",
       "rows": [
        [
         "4",
         "Cc1cc(CC#N)cc(C)c1Nc1ccnc(Nc2ccc(C#N)cc2)n1",
         "ZKXJVUBVZRGELZ-UHFFFAOYSA-N",
         "['C#N', '[R][NH][R]', '[R][NH][R]', 'C#N', '[Nar]', '[Nar]']",
         "c1ccc(Nc2ccnc(Nc3ccccc3)n2)cc1",
         "<rdkit.Chem.rdchem.Mol object at 0x36323a810>"
        ],
        [
         "5",
         "CC[C@H](C)[C@H](NS(=O)(=O)c1ccc(C)cc1)C(=O)N1CCC(C(=O)N[C@H](C(=O)O)C(C)C)CC1",
         "GDPHYVWXATZNEZ-YYWHXJBOSA-N",
         "['O=[S](=O)([R])[N]([R])[R]', 'O=[C]([R])[N]([R])[R]', 'O=[C]([R])[N]([R])[R]', 'O=[C](O)[R]']",
         "*=C(CNS(=*)(=*)c1ccccc1)N1CCCCC1",
         "<rdkit.Chem.rdchem.Mol object at 0x36323a650>"
        ],
        [
         "9",
         "C[C@]12CC[C@H](O)C[C@]1(C=O)CC=C1CCC12",
         "OXLGUMPVPZLFKY-FUEJHIMDSA-N",
         "['[OH][Cal]', 'O=[CH][R]', 'C=C']",
         "C1=C2CCC2C2CCCCC2C1",
         "<rdkit.Chem.rdchem.Mol object at 0x36323a500>"
        ],
        [
         "13",
         "CC(C)(C)SC[C@H](N)C(=O)O",
         "VADVRIAPCDFQJU-YFKPBYRVSA-N",
         "['[R][S][R]', '[NH2][Cal]', 'O=[C](O)[R]']",
         null,
         "<rdkit.Chem.rdchem.Mol object at 0x36323a490>"
        ],
        [
         "14",
         "C=CCc1cc(/C=C2\\CN(C)C/C(=C\\c3ccc(O)c(CC=C)c3)C2=O)ccc1O",
         "IWFTZFJVKREGEG-HOFJZWJUSA-N",
         "['C=C', 'C=CC(=O)C=C', '[R][N]([R])[R]', '[OH][Car]', 'C=C', '[OH][Car]']",
         "*=C1C(=Cc2ccccc2)CNCC1=Cc1ccccc1",
         "<rdkit.Chem.rdchem.Mol object at 0x36323a420>"
        ]
       ],
       "shape": {
        "columns": 5,
        "rows": 5
       }
      },
      "text/html": [
       "<div>\n",
       "<style scoped>\n",
       "    .dataframe tbody tr th:only-of-type {\n",
       "        vertical-align: middle;\n",
       "    }\n",
       "\n",
       "    .dataframe tbody tr th {\n",
       "        vertical-align: top;\n",
       "    }\n",
       "\n",
       "    .dataframe thead th {\n",
       "        text-align: right;\n",
       "    }\n",
       "</style>\n",
       "<table border=\"1\" class=\"dataframe\">\n",
       "  <thead>\n",
       "    <tr style=\"text-align: right;\">\n",
       "      <th></th>\n",
       "      <th>smiles</th>\n",
       "      <th>inchikey</th>\n",
       "      <th>fgs</th>\n",
       "      <th>scaffolds</th>\n",
       "      <th>mol</th>\n",
       "    </tr>\n",
       "  </thead>\n",
       "  <tbody>\n",
       "    <tr>\n",
       "      <th>4</th>\n",
       "      <td>Cc1cc(CC#N)cc(C)c1Nc1ccnc(Nc2ccc(C#N)cc2)n1</td>\n",
       "      <td>ZKXJVUBVZRGELZ-UHFFFAOYSA-N</td>\n",
       "      <td>[C#N, [R][NH][R], [R][NH][R], C#N, [Nar], [Nar]]</td>\n",
       "      <td>c1ccc(Nc2ccnc(Nc3ccccc3)n2)cc1</td>\n",
       "      <td>&lt;rdkit.Chem.rdchem.Mol object at 0x36323a810&gt;</td>\n",
       "    </tr>\n",
       "    <tr>\n",
       "      <th>5</th>\n",
       "      <td>CC[C@H](C)[C@H](NS(=O)(=O)c1ccc(C)cc1)C(=O)N1C...</td>\n",
       "      <td>GDPHYVWXATZNEZ-YYWHXJBOSA-N</td>\n",
       "      <td>[O=[S](=O)([R])[N]([R])[R], O=[C]([R])[N]([R])...</td>\n",
       "      <td>*=C(CNS(=*)(=*)c1ccccc1)N1CCCCC1</td>\n",
       "      <td>&lt;rdkit.Chem.rdchem.Mol object at 0x36323a650&gt;</td>\n",
       "    </tr>\n",
       "    <tr>\n",
       "      <th>9</th>\n",
       "      <td>C[C@]12CC[C@H](O)C[C@]1(C=O)CC=C1CCC12</td>\n",
       "      <td>OXLGUMPVPZLFKY-FUEJHIMDSA-N</td>\n",
       "      <td>[[OH][Cal], O=[CH][R], C=C]</td>\n",
       "      <td>C1=C2CCC2C2CCCCC2C1</td>\n",
       "      <td>&lt;rdkit.Chem.rdchem.Mol object at 0x36323a500&gt;</td>\n",
       "    </tr>\n",
       "    <tr>\n",
       "      <th>13</th>\n",
       "      <td>CC(C)(C)SC[C@H](N)C(=O)O</td>\n",
       "      <td>VADVRIAPCDFQJU-YFKPBYRVSA-N</td>\n",
       "      <td>[[R][S][R], [NH2][Cal], O=[C](O)[R]]</td>\n",
       "      <td>NaN</td>\n",
       "      <td>&lt;rdkit.Chem.rdchem.Mol object at 0x36323a490&gt;</td>\n",
       "    </tr>\n",
       "    <tr>\n",
       "      <th>14</th>\n",
       "      <td>C=CCc1cc(/C=C2\\CN(C)C/C(=C\\c3ccc(O)c(CC=C)c3)C...</td>\n",
       "      <td>IWFTZFJVKREGEG-HOFJZWJUSA-N</td>\n",
       "      <td>[C=C, C=CC(=O)C=C, [R][N]([R])[R], [OH][Car], ...</td>\n",
       "      <td>*=C1C(=Cc2ccccc2)CNCC1=Cc1ccccc1</td>\n",
       "      <td>&lt;rdkit.Chem.rdchem.Mol object at 0x36323a420&gt;</td>\n",
       "    </tr>\n",
       "  </tbody>\n",
       "</table>\n",
       "</div>"
      ],
      "text/plain": [
       "                                               smiles  \\\n",
       "4         Cc1cc(CC#N)cc(C)c1Nc1ccnc(Nc2ccc(C#N)cc2)n1   \n",
       "5   CC[C@H](C)[C@H](NS(=O)(=O)c1ccc(C)cc1)C(=O)N1C...   \n",
       "9              C[C@]12CC[C@H](O)C[C@]1(C=O)CC=C1CCC12   \n",
       "13                           CC(C)(C)SC[C@H](N)C(=O)O   \n",
       "14  C=CCc1cc(/C=C2\\CN(C)C/C(=C\\c3ccc(O)c(CC=C)c3)C...   \n",
       "\n",
       "                       inchikey  \\\n",
       "4   ZKXJVUBVZRGELZ-UHFFFAOYSA-N   \n",
       "5   GDPHYVWXATZNEZ-YYWHXJBOSA-N   \n",
       "9   OXLGUMPVPZLFKY-FUEJHIMDSA-N   \n",
       "13  VADVRIAPCDFQJU-YFKPBYRVSA-N   \n",
       "14  IWFTZFJVKREGEG-HOFJZWJUSA-N   \n",
       "\n",
       "                                                  fgs  \\\n",
       "4    [C#N, [R][NH][R], [R][NH][R], C#N, [Nar], [Nar]]   \n",
       "5   [O=[S](=O)([R])[N]([R])[R], O=[C]([R])[N]([R])...   \n",
       "9                         [[OH][Cal], O=[CH][R], C=C]   \n",
       "13               [[R][S][R], [NH2][Cal], O=[C](O)[R]]   \n",
       "14  [C=C, C=CC(=O)C=C, [R][N]([R])[R], [OH][Car], ...   \n",
       "\n",
       "                           scaffolds  \\\n",
       "4     c1ccc(Nc2ccnc(Nc3ccccc3)n2)cc1   \n",
       "5   *=C(CNS(=*)(=*)c1ccccc1)N1CCCCC1   \n",
       "9                C1=C2CCC2C2CCCCC2C1   \n",
       "13                               NaN   \n",
       "14  *=C1C(=Cc2ccccc2)CNCC1=Cc1ccccc1   \n",
       "\n",
       "                                              mol  \n",
       "4   <rdkit.Chem.rdchem.Mol object at 0x36323a810>  \n",
       "5   <rdkit.Chem.rdchem.Mol object at 0x36323a650>  \n",
       "9   <rdkit.Chem.rdchem.Mol object at 0x36323a500>  \n",
       "13  <rdkit.Chem.rdchem.Mol object at 0x36323a490>  \n",
       "14  <rdkit.Chem.rdchem.Mol object at 0x36323a420>  "
      ]
     },
     "execution_count": 7,
     "metadata": {},
     "output_type": "execute_result"
    }
   ],
   "source": [
    "# Convert SMILES to RDKit Mol objects\n",
    "chembl_curated['mol'] = chembl_curated['smiles'].apply(safe_mol_from_smiles)\n",
    "chembl_curated.head()"
   ]
  },
  {
   "cell_type": "code",
   "execution_count": 8,
   "id": "e33831ad",
   "metadata": {},
   "outputs": [
    {
     "name": "stderr",
     "output_type": "stream",
     "text": [
      "/var/folders/r4/3wxjq8t93d76lfkb5vmhrlpr0000gn/T/ipykernel_6979/754516725.py:2: SettingWithCopyWarning: \n",
      "A value is trying to be set on a copy of a slice from a DataFrame.\n",
      "Try using .loc[row_indexer,col_indexer] = value instead\n",
      "\n",
      "See the caveats in the documentation: https://pandas.pydata.org/pandas-docs/stable/user_guide/indexing.html#returning-a-view-versus-a-copy\n",
      "  chembl_curated['mol_weight'] = chembl_curated['mol'].apply(lambda x: Descriptors.MolWt(x) if x else None)\n"
     ]
    },
    {
     "data": {
      "application/vnd.microsoft.datawrangler.viewer.v0+json": {
       "columns": [
        {
         "name": "index",
         "rawType": "int64",
         "type": "integer"
        },
        {
         "name": "smiles",
         "rawType": "object",
         "type": "string"
        },
        {
         "name": "inchikey",
         "rawType": "object",
         "type": "string"
        },
        {
         "name": "fgs",
         "rawType": "object",
         "type": "unknown"
        },
        {
         "name": "scaffolds",
         "rawType": "object",
         "type": "unknown"
        },
        {
         "name": "mol",
         "rawType": "object",
         "type": "unknown"
        },
        {
         "name": "mol_weight",
         "rawType": "float64",
         "type": "float"
        }
       ],
       "ref": "366228b1-debf-4e0d-8fc9-703f380ed680",
       "rows": [
        [
         "4",
         "Cc1cc(CC#N)cc(C)c1Nc1ccnc(Nc2ccc(C#N)cc2)n1",
         "ZKXJVUBVZRGELZ-UHFFFAOYSA-N",
         "['C#N', '[R][NH][R]', '[R][NH][R]', 'C#N', '[Nar]', '[Nar]']",
         "c1ccc(Nc2ccnc(Nc3ccccc3)n2)cc1",
         "<rdkit.Chem.rdchem.Mol object at 0x36323a810>",
         "354.4170000000001"
        ],
        [
         "5",
         "CC[C@H](C)[C@H](NS(=O)(=O)c1ccc(C)cc1)C(=O)N1CCC(C(=O)N[C@H](C(=O)O)C(C)C)CC1",
         "GDPHYVWXATZNEZ-YYWHXJBOSA-N",
         "['O=[S](=O)([R])[N]([R])[R]', 'O=[C]([R])[N]([R])[R]', 'O=[C]([R])[N]([R])[R]', 'O=[C](O)[R]']",
         "*=C(CNS(=*)(=*)c1ccccc1)N1CCCCC1",
         "<rdkit.Chem.rdchem.Mol object at 0x36323a650>",
         "495.64200000000034"
        ],
        [
         "9",
         "C[C@]12CC[C@H](O)C[C@]1(C=O)CC=C1CCC12",
         "OXLGUMPVPZLFKY-FUEJHIMDSA-N",
         "['[OH][Cal]', 'O=[CH][R]', 'C=C']",
         "C1=C2CCC2C2CCCCC2C1",
         "<rdkit.Chem.rdchem.Mol object at 0x36323a500>",
         "220.31199999999995"
        ],
        [
         "13",
         "CC(C)(C)SC[C@H](N)C(=O)O",
         "VADVRIAPCDFQJU-YFKPBYRVSA-N",
         "['[R][S][R]', '[NH2][Cal]', 'O=[C](O)[R]']",
         null,
         "<rdkit.Chem.rdchem.Mol object at 0x36323a490>",
         "177.26899999999998"
        ],
        [
         "14",
         "C=CCc1cc(/C=C2\\CN(C)C/C(=C\\c3ccc(O)c(CC=C)c3)C2=O)ccc1O",
         "IWFTZFJVKREGEG-HOFJZWJUSA-N",
         "['C=C', 'C=CC(=O)C=C', '[R][N]([R])[R]', '[OH][Car]', 'C=C', '[OH][Car]']",
         "*=C1C(=Cc2ccccc2)CNCC1=Cc1ccccc1",
         "<rdkit.Chem.rdchem.Mol object at 0x36323a420>",
         "401.50600000000014"
        ]
       ],
       "shape": {
        "columns": 6,
        "rows": 5
       }
      },
      "text/html": [
       "<div>\n",
       "<style scoped>\n",
       "    .dataframe tbody tr th:only-of-type {\n",
       "        vertical-align: middle;\n",
       "    }\n",
       "\n",
       "    .dataframe tbody tr th {\n",
       "        vertical-align: top;\n",
       "    }\n",
       "\n",
       "    .dataframe thead th {\n",
       "        text-align: right;\n",
       "    }\n",
       "</style>\n",
       "<table border=\"1\" class=\"dataframe\">\n",
       "  <thead>\n",
       "    <tr style=\"text-align: right;\">\n",
       "      <th></th>\n",
       "      <th>smiles</th>\n",
       "      <th>inchikey</th>\n",
       "      <th>fgs</th>\n",
       "      <th>scaffolds</th>\n",
       "      <th>mol</th>\n",
       "      <th>mol_weight</th>\n",
       "    </tr>\n",
       "  </thead>\n",
       "  <tbody>\n",
       "    <tr>\n",
       "      <th>4</th>\n",
       "      <td>Cc1cc(CC#N)cc(C)c1Nc1ccnc(Nc2ccc(C#N)cc2)n1</td>\n",
       "      <td>ZKXJVUBVZRGELZ-UHFFFAOYSA-N</td>\n",
       "      <td>[C#N, [R][NH][R], [R][NH][R], C#N, [Nar], [Nar]]</td>\n",
       "      <td>c1ccc(Nc2ccnc(Nc3ccccc3)n2)cc1</td>\n",
       "      <td>&lt;rdkit.Chem.rdchem.Mol object at 0x36323a810&gt;</td>\n",
       "      <td>354.417</td>\n",
       "    </tr>\n",
       "    <tr>\n",
       "      <th>5</th>\n",
       "      <td>CC[C@H](C)[C@H](NS(=O)(=O)c1ccc(C)cc1)C(=O)N1C...</td>\n",
       "      <td>GDPHYVWXATZNEZ-YYWHXJBOSA-N</td>\n",
       "      <td>[O=[S](=O)([R])[N]([R])[R], O=[C]([R])[N]([R])...</td>\n",
       "      <td>*=C(CNS(=*)(=*)c1ccccc1)N1CCCCC1</td>\n",
       "      <td>&lt;rdkit.Chem.rdchem.Mol object at 0x36323a650&gt;</td>\n",
       "      <td>495.642</td>\n",
       "    </tr>\n",
       "    <tr>\n",
       "      <th>9</th>\n",
       "      <td>C[C@]12CC[C@H](O)C[C@]1(C=O)CC=C1CCC12</td>\n",
       "      <td>OXLGUMPVPZLFKY-FUEJHIMDSA-N</td>\n",
       "      <td>[[OH][Cal], O=[CH][R], C=C]</td>\n",
       "      <td>C1=C2CCC2C2CCCCC2C1</td>\n",
       "      <td>&lt;rdkit.Chem.rdchem.Mol object at 0x36323a500&gt;</td>\n",
       "      <td>220.312</td>\n",
       "    </tr>\n",
       "    <tr>\n",
       "      <th>13</th>\n",
       "      <td>CC(C)(C)SC[C@H](N)C(=O)O</td>\n",
       "      <td>VADVRIAPCDFQJU-YFKPBYRVSA-N</td>\n",
       "      <td>[[R][S][R], [NH2][Cal], O=[C](O)[R]]</td>\n",
       "      <td>NaN</td>\n",
       "      <td>&lt;rdkit.Chem.rdchem.Mol object at 0x36323a490&gt;</td>\n",
       "      <td>177.269</td>\n",
       "    </tr>\n",
       "    <tr>\n",
       "      <th>14</th>\n",
       "      <td>C=CCc1cc(/C=C2\\CN(C)C/C(=C\\c3ccc(O)c(CC=C)c3)C...</td>\n",
       "      <td>IWFTZFJVKREGEG-HOFJZWJUSA-N</td>\n",
       "      <td>[C=C, C=CC(=O)C=C, [R][N]([R])[R], [OH][Car], ...</td>\n",
       "      <td>*=C1C(=Cc2ccccc2)CNCC1=Cc1ccccc1</td>\n",
       "      <td>&lt;rdkit.Chem.rdchem.Mol object at 0x36323a420&gt;</td>\n",
       "      <td>401.506</td>\n",
       "    </tr>\n",
       "  </tbody>\n",
       "</table>\n",
       "</div>"
      ],
      "text/plain": [
       "                                               smiles  \\\n",
       "4         Cc1cc(CC#N)cc(C)c1Nc1ccnc(Nc2ccc(C#N)cc2)n1   \n",
       "5   CC[C@H](C)[C@H](NS(=O)(=O)c1ccc(C)cc1)C(=O)N1C...   \n",
       "9              C[C@]12CC[C@H](O)C[C@]1(C=O)CC=C1CCC12   \n",
       "13                           CC(C)(C)SC[C@H](N)C(=O)O   \n",
       "14  C=CCc1cc(/C=C2\\CN(C)C/C(=C\\c3ccc(O)c(CC=C)c3)C...   \n",
       "\n",
       "                       inchikey  \\\n",
       "4   ZKXJVUBVZRGELZ-UHFFFAOYSA-N   \n",
       "5   GDPHYVWXATZNEZ-YYWHXJBOSA-N   \n",
       "9   OXLGUMPVPZLFKY-FUEJHIMDSA-N   \n",
       "13  VADVRIAPCDFQJU-YFKPBYRVSA-N   \n",
       "14  IWFTZFJVKREGEG-HOFJZWJUSA-N   \n",
       "\n",
       "                                                  fgs  \\\n",
       "4    [C#N, [R][NH][R], [R][NH][R], C#N, [Nar], [Nar]]   \n",
       "5   [O=[S](=O)([R])[N]([R])[R], O=[C]([R])[N]([R])...   \n",
       "9                         [[OH][Cal], O=[CH][R], C=C]   \n",
       "13               [[R][S][R], [NH2][Cal], O=[C](O)[R]]   \n",
       "14  [C=C, C=CC(=O)C=C, [R][N]([R])[R], [OH][Car], ...   \n",
       "\n",
       "                           scaffolds  \\\n",
       "4     c1ccc(Nc2ccnc(Nc3ccccc3)n2)cc1   \n",
       "5   *=C(CNS(=*)(=*)c1ccccc1)N1CCCCC1   \n",
       "9                C1=C2CCC2C2CCCCC2C1   \n",
       "13                               NaN   \n",
       "14  *=C1C(=Cc2ccccc2)CNCC1=Cc1ccccc1   \n",
       "\n",
       "                                              mol  mol_weight  \n",
       "4   <rdkit.Chem.rdchem.Mol object at 0x36323a810>     354.417  \n",
       "5   <rdkit.Chem.rdchem.Mol object at 0x36323a650>     495.642  \n",
       "9   <rdkit.Chem.rdchem.Mol object at 0x36323a500>     220.312  \n",
       "13  <rdkit.Chem.rdchem.Mol object at 0x36323a490>     177.269  \n",
       "14  <rdkit.Chem.rdchem.Mol object at 0x36323a420>     401.506  "
      ]
     },
     "execution_count": 8,
     "metadata": {},
     "output_type": "execute_result"
    }
   ],
   "source": [
    "# Get the molecular weights of the molecules\n",
    "chembl_curated['mol_weight'] = chembl_curated['mol'].apply(lambda x: Descriptors.MolWt(x) if x else None)\n",
    "chembl_curated.head()"
   ]
  },
  {
   "cell_type": "code",
   "execution_count": 9,
   "id": "9fedf9ef",
   "metadata": {},
   "outputs": [],
   "source": [
    "filtered = chembl_curated[\n",
    "    (chembl_curated['mol_weight'] <= 500)\n",
    "]\n",
    "\n",
    "filtered[['smiles', 'inchikey', 'fgs', 'scaffolds', 'mol_weight']].to_csv('chembl_35_fg_scaf_curated.csv', index=False)"
   ]
  },
  {
   "cell_type": "code",
   "execution_count": 10,
   "id": "0ed521ce",
   "metadata": {},
   "outputs": [
    {
     "name": "stderr",
     "output_type": "stream",
     "text": [
      "/var/folders/r4/3wxjq8t93d76lfkb5vmhrlpr0000gn/T/ipykernel_6979/504877369.py:2: SettingWithCopyWarning: \n",
      "A value is trying to be set on a copy of a slice from a DataFrame.\n",
      "Try using .loc[row_indexer,col_indexer] = value instead\n",
      "\n",
      "See the caveats in the documentation: https://pandas.pydata.org/pandas-docs/stable/user_guide/indexing.html#returning-a-view-versus-a-copy\n",
      "  filtered['fingerprint'] = filtered['mol'].apply(mol_to_fingerprint)\n",
      "/var/folders/r4/3wxjq8t93d76lfkb5vmhrlpr0000gn/T/ipykernel_6979/504877369.py:4: SettingWithCopyWarning: \n",
      "A value is trying to be set on a copy of a slice from a DataFrame.\n",
      "Try using .loc[row_indexer,col_indexer] = value instead\n",
      "\n",
      "See the caveats in the documentation: https://pandas.pydata.org/pandas-docs/stable/user_guide/indexing.html#returning-a-view-versus-a-copy\n",
      "  filtered['fingerprint_array'] = filtered['fingerprint'].apply(\n",
      "/var/folders/r4/3wxjq8t93d76lfkb5vmhrlpr0000gn/T/ipykernel_6979/504877369.py:8: SettingWithCopyWarning: \n",
      "A value is trying to be set on a copy of a slice from a DataFrame.\n",
      "Try using .loc[row_indexer,col_indexer] = value instead\n",
      "\n",
      "See the caveats in the documentation: https://pandas.pydata.org/pandas-docs/stable/user_guide/indexing.html#returning-a-view-versus-a-copy\n",
      "  filtered['fg_array'] = filtered['fgs'].apply(lambda x: fg_to_array(x, curation_fgs))\n",
      "/var/folders/r4/3wxjq8t93d76lfkb5vmhrlpr0000gn/T/ipykernel_6979/504877369.py:11: SettingWithCopyWarning: \n",
      "A value is trying to be set on a copy of a slice from a DataFrame.\n",
      "Try using .loc[row_indexer,col_indexer] = value instead\n",
      "\n",
      "See the caveats in the documentation: https://pandas.pydata.org/pandas-docs/stable/user_guide/indexing.html#returning-a-view-versus-a-copy\n",
      "  filtered['fingerprint_array'] = filtered['fingerprint_array'].apply(lambda x: x if isinstance(x, np.ndarray) else np.zeros((2048,), dtype=int))\n",
      "/var/folders/r4/3wxjq8t93d76lfkb5vmhrlpr0000gn/T/ipykernel_6979/504877369.py:14: SettingWithCopyWarning: \n",
      "A value is trying to be set on a copy of a slice from a DataFrame.\n",
      "Try using .loc[row_indexer,col_indexer] = value instead\n",
      "\n",
      "See the caveats in the documentation: https://pandas.pydata.org/pandas-docs/stable/user_guide/indexing.html#returning-a-view-versus-a-copy\n",
      "  filtered['fg_array'] = filtered['fg_array'].apply(lambda x: x if isinstance(x, np.ndarray) else np.zeros((len(curation_fgs),), dtype=int))\n",
      "/var/folders/r4/3wxjq8t93d76lfkb5vmhrlpr0000gn/T/ipykernel_6979/504877369.py:17: SettingWithCopyWarning: \n",
      "A value is trying to be set on a copy of a slice from a DataFrame.\n",
      "Try using .loc[row_indexer,col_indexer] = value instead\n",
      "\n",
      "See the caveats in the documentation: https://pandas.pydata.org/pandas-docs/stable/user_guide/indexing.html#returning-a-view-versus-a-copy\n",
      "  filtered['fg_array'] = filtered['fg_array'].apply(lambda x: x if np.sum(x) <= 1 else np.zeros((len(curation_fgs),), dtype=int))\n"
     ]
    }
   ],
   "source": [
    "# Create fingerprints and functional group arrays\n",
    "filtered['fingerprint'] = filtered['mol'].apply(mol_to_fingerprint)\n",
    "\n",
    "filtered['fingerprint_array'] = filtered['fingerprint'].apply(\n",
    "    lambda x: fp_to_array(x) if x is not None else None\n",
    ")\n",
    "\n",
    "filtered['fg_array'] = filtered['fgs'].apply(lambda x: fg_to_array(x, curation_fgs))\n",
    "\n",
    "# Convert the fingerprint to numpy arrays\n",
    "filtered['fingerprint_array'] = filtered['fingerprint_array'].apply(lambda x: x if isinstance(x, np.ndarray) else np.zeros((2048,), dtype=int))\n",
    "\n",
    "# Convert the fg_array to numpy arrays\n",
    "filtered['fg_array'] = filtered['fg_array'].apply(lambda x: x if isinstance(x, np.ndarray) else np.zeros((len(curation_fgs),), dtype=int))\n",
    "\n",
    "# Remove molecules with more than 1 of the functional groups\n",
    "filtered['fg_array'] = filtered['fg_array'].apply(lambda x: x if np.sum(x) <= 1 else np.zeros((len(curation_fgs),), dtype=int))\n",
    "\n",
    "# Remove any rows where fg_array is all zeros\n",
    "filtered = filtered[filtered['fg_array'].apply(lambda x: np.any(x))]\n",
    "\n",
    "# Sample 100,000 molecules\n",
    "sampled = filtered.sample(n=100000, random_state=42)"
   ]
  },
  {
   "cell_type": "code",
   "execution_count": 11,
   "id": "396c8ed6",
   "metadata": {},
   "outputs": [
    {
     "name": "stdout",
     "output_type": "stream",
     "text": [
      "Processed data saved to data/chembl_35_fg_scaf_curated.pkl\n"
     ]
    }
   ],
   "source": [
    "# Save the processed data to a pickle file\n",
    "output_file = 'data/chembl_35_fg_scaf_curated.pkl'\n",
    "with open(output_file, 'wb') as f:\n",
    "    pickle.dump(sampled, f)\n",
    "print(f\"Processed data saved to {output_file}\")"
   ]
  }
 ],
 "metadata": {
  "kernelspec": {
   "display_name": "rdkit-thesis",
   "language": "python",
   "name": "python3"
  },
  "language_info": {
   "codemirror_mode": {
    "name": "ipython",
    "version": 3
   },
   "file_extension": ".py",
   "mimetype": "text/x-python",
   "name": "python",
   "nbconvert_exporter": "python",
   "pygments_lexer": "ipython3",
   "version": "3.13.3"
  }
 },
 "nbformat": 4,
 "nbformat_minor": 5
}
