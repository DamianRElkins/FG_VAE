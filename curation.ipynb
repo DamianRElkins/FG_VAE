{
 "cells": [
  {
   "cell_type": "code",
   "execution_count": 1,
   "id": "70e81113",
   "metadata": {},
   "outputs": [
    {
     "name": "stderr",
     "output_type": "stream",
     "text": [
      "/Users/damianelkins/miniconda3/envs/rdkit-thesis/lib/python3.13/site-packages/tqdm/auto.py:21: TqdmWarning: IProgress not found. Please update jupyter and ipywidgets. See https://ipywidgets.readthedocs.io/en/stable/user_install.html\n",
      "  from .autonotebook import tqdm as notebook_tqdm\n"
     ]
    }
   ],
   "source": [
    "import pandas as pd\n",
    "from rdkit.Chem import Descriptors\n",
    "import pickle\n",
    "import os\n",
    "import numpy as np\n",
    "import matplotlib.pyplot as plt\n",
    "\n",
    "from fg_funcs import mol_to_fingerprint, safe_mol_from_smiles, fg_to_array, fp_to_array"
   ]
  },
  {
   "cell_type": "code",
   "execution_count": 2,
   "id": "edfdbb7f",
   "metadata": {},
   "outputs": [],
   "source": [
    "# Load the dataset\n",
    "data_path = 'data/chembl_35_fg_scaf.csv'\n",
    "if os.path.exists(data_path):\n",
    "    chembl = pd.read_csv(data_path)\n",
    "else:\n",
    "    raise FileNotFoundError(f\"Dataset not found at {data_path}\")"
   ]
  },
  {
   "cell_type": "code",
   "execution_count": 3,
   "id": "84a1b732",
   "metadata": {},
   "outputs": [],
   "source": [
    "# Convert each fgs entry to a list\n",
    "chembl['fgs'] = chembl['fgs'].apply(lambda x: eval(x) if isinstance(x, str) else x)\n",
    "\n",
    "# drop rows with empty fgs\n",
    "chembl = chembl[chembl['fgs'].notna() & (chembl['fgs'].str.len() > 0)]"
   ]
  },
  {
   "cell_type": "code",
   "execution_count": 4,
   "id": "148db81b",
   "metadata": {},
   "outputs": [
    {
     "name": "stdout",
     "output_type": "stream",
     "text": [
      "['[Nar]', '[R][O][R]', 'O=[C]([R])[N]([R])[R]', '[F][R]', '[R][N]([R])[R]', '[Cl][R]', '[OH][Cal]', '[R][NH][R]', '[O]=[Car]', '[OH][Car]', '[Sar]', '[Oar]', 'O=[C]([R])[O][R]', 'O=[C](O)[R]', 'O=[S](=O)([R])[N]([R])[R]', 'C=C', 'O=[C]([R])[R]', '[R][S][R]', '[NH2][Car]', '[R][Br]']\n"
     ]
    }
   ],
   "source": [
    "# Currate dataset using 4 functional groups\n",
    "fgs_list = []\n",
    "for fgs in chembl['fgs']:\n",
    "    if isinstance(fgs, list):\n",
    "        fgs_list.extend(fgs)\n",
    "sorted_fgs = pd.Series(fgs_list).value_counts().head(20).index.tolist()\n",
    "\n",
    "print(sorted_fgs)\n"
   ]
  },
  {
   "cell_type": "code",
   "execution_count": 16,
   "id": "73139aa6",
   "metadata": {},
   "outputs": [
    {
     "name": "stdout",
     "output_type": "stream",
     "text": [
      "[Nar]                              3188978\n",
      "[R][O][R]                          1322479\n",
      "O=[C]([R])[N]([R])[R]              1249000\n",
      "[F][R]                              962042\n",
      "[R][N]([R])[R]                      699809\n",
      "                                    ...   \n",
      "O=[C]1N=C([N]([R])[R])C=[N][R]1          1\n",
      "C=COP(=O)([O][R])[O][R]                  1\n",
      "[O-][S+]([R])C(C=[N][R])=CO              1\n",
      "C=CC(F)=CC=CC(=O)O                       1\n",
      "C=CN(C=C)C(=O)C(=C)C#N                   1\n",
      "Name: count, Length: 14630, dtype: int64\n",
      "13959\n"
     ]
    }
   ],
   "source": [
    "print(pd.Series(fgs_list).value_counts())\n",
    "\n",
    "# Get how many fgs have more than 1000 occurrences\n",
    "print((pd.Series(fgs_list).value_counts() < 100).sum())\n"
   ]
  },
  {
   "cell_type": "code",
   "execution_count": 6,
   "id": "20359879",
   "metadata": {},
   "outputs": [
    {
     "data": {
      "text/plain": [
       "(717003, 4)"
      ]
     },
     "execution_count": 6,
     "metadata": {},
     "output_type": "execute_result"
    }
   ],
   "source": [
    "curation_fgs = ['[R][NH][R]', 'O=[C](O)[R]', 'C=C', '[NH2][Car]']\n",
    "chembl_curated = chembl[chembl['fgs'].apply(lambda x: any(fg in x for fg in curation_fgs))]\n",
    "chembl_curated.shape"
   ]
  },
  {
   "cell_type": "code",
   "execution_count": 7,
   "id": "a33d9a77",
   "metadata": {},
   "outputs": [
    {
     "name": "stderr",
     "output_type": "stream",
     "text": [
      "/var/folders/r4/3wxjq8t93d76lfkb5vmhrlpr0000gn/T/ipykernel_3069/2713019006.py:2: SettingWithCopyWarning: \n",
      "A value is trying to be set on a copy of a slice from a DataFrame.\n",
      "Try using .loc[row_indexer,col_indexer] = value instead\n",
      "\n",
      "See the caveats in the documentation: https://pandas.pydata.org/pandas-docs/stable/user_guide/indexing.html#returning-a-view-versus-a-copy\n",
      "  chembl_curated['mol'] = chembl_curated['smiles'].apply(safe_mol_from_smiles)\n"
     ]
    },
    {
     "data": {
      "application/vnd.microsoft.datawrangler.viewer.v0+json": {
       "columns": [
        {
         "name": "index",
         "rawType": "int64",
         "type": "integer"
        },
        {
         "name": "smiles",
         "rawType": "object",
         "type": "string"
        },
        {
         "name": "inchikey",
         "rawType": "object",
         "type": "string"
        },
        {
         "name": "fgs",
         "rawType": "object",
         "type": "unknown"
        },
        {
         "name": "scaffolds",
         "rawType": "object",
         "type": "unknown"
        },
        {
         "name": "mol",
         "rawType": "object",
         "type": "unknown"
        }
       ],
       "ref": "f7006761-782a-4c1e-99d2-cd3296feb745",
       "rows": [
        [
         "4",
         "Cc1cc(CC#N)cc(C)c1Nc1ccnc(Nc2ccc(C#N)cc2)n1",
         "ZKXJVUBVZRGELZ-UHFFFAOYSA-N",
         "['C#N', '[R][NH][R]', '[R][NH][R]', 'C#N', '[Nar]', '[Nar]']",
         "c1ccc(Nc2ccnc(Nc3ccccc3)n2)cc1",
         "<rdkit.Chem.rdchem.Mol object at 0x17599f610>"
        ],
        [
         "5",
         "CC[C@H](C)[C@H](NS(=O)(=O)c1ccc(C)cc1)C(=O)N1CCC(C(=O)N[C@H](C(=O)O)C(C)C)CC1",
         "GDPHYVWXATZNEZ-YYWHXJBOSA-N",
         "['O=[S](=O)([R])[N]([R])[R]', 'O=[C]([R])[N]([R])[R]', 'O=[C]([R])[N]([R])[R]', 'O=[C](O)[R]']",
         "*=C(CNS(=*)(=*)c1ccccc1)N1CCCCC1",
         "<rdkit.Chem.rdchem.Mol object at 0x17599f370>"
        ],
        [
         "9",
         "C[C@]12CC[C@H](O)C[C@]1(C=O)CC=C1CCC12",
         "OXLGUMPVPZLFKY-FUEJHIMDSA-N",
         "['[OH][Cal]', 'O=[CH][R]', 'C=C']",
         "C1=C2CCC2C2CCCCC2C1",
         "<rdkit.Chem.rdchem.Mol object at 0x35cae3300>"
        ],
        [
         "13",
         "CC(C)(C)SC[C@H](N)C(=O)O",
         "VADVRIAPCDFQJU-YFKPBYRVSA-N",
         "['[R][S][R]', '[NH2][Cal]', 'O=[C](O)[R]']",
         null,
         "<rdkit.Chem.rdchem.Mol object at 0x35cae3290>"
        ],
        [
         "14",
         "C=CCc1cc(/C=C2\\CN(C)C/C(=C\\c3ccc(O)c(CC=C)c3)C2=O)ccc1O",
         "IWFTZFJVKREGEG-HOFJZWJUSA-N",
         "['C=C', 'C=CC(=O)C=C', '[R][N]([R])[R]', '[OH][Car]', 'C=C', '[OH][Car]']",
         "*=C1C(=Cc2ccccc2)CNCC1=Cc1ccccc1",
         "<rdkit.Chem.rdchem.Mol object at 0x32bca2ab0>"
        ]
       ],
       "shape": {
        "columns": 5,
        "rows": 5
       }
      },
      "text/html": [
       "<div>\n",
       "<style scoped>\n",
       "    .dataframe tbody tr th:only-of-type {\n",
       "        vertical-align: middle;\n",
       "    }\n",
       "\n",
       "    .dataframe tbody tr th {\n",
       "        vertical-align: top;\n",
       "    }\n",
       "\n",
       "    .dataframe thead th {\n",
       "        text-align: right;\n",
       "    }\n",
       "</style>\n",
       "<table border=\"1\" class=\"dataframe\">\n",
       "  <thead>\n",
       "    <tr style=\"text-align: right;\">\n",
       "      <th></th>\n",
       "      <th>smiles</th>\n",
       "      <th>inchikey</th>\n",
       "      <th>fgs</th>\n",
       "      <th>scaffolds</th>\n",
       "      <th>mol</th>\n",
       "    </tr>\n",
       "  </thead>\n",
       "  <tbody>\n",
       "    <tr>\n",
       "      <th>4</th>\n",
       "      <td>Cc1cc(CC#N)cc(C)c1Nc1ccnc(Nc2ccc(C#N)cc2)n1</td>\n",
       "      <td>ZKXJVUBVZRGELZ-UHFFFAOYSA-N</td>\n",
       "      <td>[C#N, [R][NH][R], [R][NH][R], C#N, [Nar], [Nar]]</td>\n",
       "      <td>c1ccc(Nc2ccnc(Nc3ccccc3)n2)cc1</td>\n",
       "      <td>&lt;rdkit.Chem.rdchem.Mol object at 0x17599f610&gt;</td>\n",
       "    </tr>\n",
       "    <tr>\n",
       "      <th>5</th>\n",
       "      <td>CC[C@H](C)[C@H](NS(=O)(=O)c1ccc(C)cc1)C(=O)N1C...</td>\n",
       "      <td>GDPHYVWXATZNEZ-YYWHXJBOSA-N</td>\n",
       "      <td>[O=[S](=O)([R])[N]([R])[R], O=[C]([R])[N]([R])...</td>\n",
       "      <td>*=C(CNS(=*)(=*)c1ccccc1)N1CCCCC1</td>\n",
       "      <td>&lt;rdkit.Chem.rdchem.Mol object at 0x17599f370&gt;</td>\n",
       "    </tr>\n",
       "    <tr>\n",
       "      <th>9</th>\n",
       "      <td>C[C@]12CC[C@H](O)C[C@]1(C=O)CC=C1CCC12</td>\n",
       "      <td>OXLGUMPVPZLFKY-FUEJHIMDSA-N</td>\n",
       "      <td>[[OH][Cal], O=[CH][R], C=C]</td>\n",
       "      <td>C1=C2CCC2C2CCCCC2C1</td>\n",
       "      <td>&lt;rdkit.Chem.rdchem.Mol object at 0x35cae3300&gt;</td>\n",
       "    </tr>\n",
       "    <tr>\n",
       "      <th>13</th>\n",
       "      <td>CC(C)(C)SC[C@H](N)C(=O)O</td>\n",
       "      <td>VADVRIAPCDFQJU-YFKPBYRVSA-N</td>\n",
       "      <td>[[R][S][R], [NH2][Cal], O=[C](O)[R]]</td>\n",
       "      <td>NaN</td>\n",
       "      <td>&lt;rdkit.Chem.rdchem.Mol object at 0x35cae3290&gt;</td>\n",
       "    </tr>\n",
       "    <tr>\n",
       "      <th>14</th>\n",
       "      <td>C=CCc1cc(/C=C2\\CN(C)C/C(=C\\c3ccc(O)c(CC=C)c3)C...</td>\n",
       "      <td>IWFTZFJVKREGEG-HOFJZWJUSA-N</td>\n",
       "      <td>[C=C, C=CC(=O)C=C, [R][N]([R])[R], [OH][Car], ...</td>\n",
       "      <td>*=C1C(=Cc2ccccc2)CNCC1=Cc1ccccc1</td>\n",
       "      <td>&lt;rdkit.Chem.rdchem.Mol object at 0x32bca2ab0&gt;</td>\n",
       "    </tr>\n",
       "  </tbody>\n",
       "</table>\n",
       "</div>"
      ],
      "text/plain": [
       "                                               smiles  \\\n",
       "4         Cc1cc(CC#N)cc(C)c1Nc1ccnc(Nc2ccc(C#N)cc2)n1   \n",
       "5   CC[C@H](C)[C@H](NS(=O)(=O)c1ccc(C)cc1)C(=O)N1C...   \n",
       "9              C[C@]12CC[C@H](O)C[C@]1(C=O)CC=C1CCC12   \n",
       "13                           CC(C)(C)SC[C@H](N)C(=O)O   \n",
       "14  C=CCc1cc(/C=C2\\CN(C)C/C(=C\\c3ccc(O)c(CC=C)c3)C...   \n",
       "\n",
       "                       inchikey  \\\n",
       "4   ZKXJVUBVZRGELZ-UHFFFAOYSA-N   \n",
       "5   GDPHYVWXATZNEZ-YYWHXJBOSA-N   \n",
       "9   OXLGUMPVPZLFKY-FUEJHIMDSA-N   \n",
       "13  VADVRIAPCDFQJU-YFKPBYRVSA-N   \n",
       "14  IWFTZFJVKREGEG-HOFJZWJUSA-N   \n",
       "\n",
       "                                                  fgs  \\\n",
       "4    [C#N, [R][NH][R], [R][NH][R], C#N, [Nar], [Nar]]   \n",
       "5   [O=[S](=O)([R])[N]([R])[R], O=[C]([R])[N]([R])...   \n",
       "9                         [[OH][Cal], O=[CH][R], C=C]   \n",
       "13               [[R][S][R], [NH2][Cal], O=[C](O)[R]]   \n",
       "14  [C=C, C=CC(=O)C=C, [R][N]([R])[R], [OH][Car], ...   \n",
       "\n",
       "                           scaffolds  \\\n",
       "4     c1ccc(Nc2ccnc(Nc3ccccc3)n2)cc1   \n",
       "5   *=C(CNS(=*)(=*)c1ccccc1)N1CCCCC1   \n",
       "9                C1=C2CCC2C2CCCCC2C1   \n",
       "13                               NaN   \n",
       "14  *=C1C(=Cc2ccccc2)CNCC1=Cc1ccccc1   \n",
       "\n",
       "                                              mol  \n",
       "4   <rdkit.Chem.rdchem.Mol object at 0x17599f610>  \n",
       "5   <rdkit.Chem.rdchem.Mol object at 0x17599f370>  \n",
       "9   <rdkit.Chem.rdchem.Mol object at 0x35cae3300>  \n",
       "13  <rdkit.Chem.rdchem.Mol object at 0x35cae3290>  \n",
       "14  <rdkit.Chem.rdchem.Mol object at 0x32bca2ab0>  "
      ]
     },
     "execution_count": 7,
     "metadata": {},
     "output_type": "execute_result"
    }
   ],
   "source": [
    "# Convert SMILES to RDKit Mol objects\n",
    "chembl_curated['mol'] = chembl_curated['smiles'].apply(safe_mol_from_smiles)\n",
    "chembl_curated.head()"
   ]
  },
  {
   "cell_type": "code",
   "execution_count": 8,
   "id": "e33831ad",
   "metadata": {},
   "outputs": [
    {
     "name": "stderr",
     "output_type": "stream",
     "text": [
      "/var/folders/r4/3wxjq8t93d76lfkb5vmhrlpr0000gn/T/ipykernel_3069/754516725.py:2: SettingWithCopyWarning: \n",
      "A value is trying to be set on a copy of a slice from a DataFrame.\n",
      "Try using .loc[row_indexer,col_indexer] = value instead\n",
      "\n",
      "See the caveats in the documentation: https://pandas.pydata.org/pandas-docs/stable/user_guide/indexing.html#returning-a-view-versus-a-copy\n",
      "  chembl_curated['mol_weight'] = chembl_curated['mol'].apply(lambda x: Descriptors.MolWt(x) if x else None)\n"
     ]
    },
    {
     "data": {
      "application/vnd.microsoft.datawrangler.viewer.v0+json": {
       "columns": [
        {
         "name": "index",
         "rawType": "int64",
         "type": "integer"
        },
        {
         "name": "smiles",
         "rawType": "object",
         "type": "string"
        },
        {
         "name": "inchikey",
         "rawType": "object",
         "type": "string"
        },
        {
         "name": "fgs",
         "rawType": "object",
         "type": "unknown"
        },
        {
         "name": "scaffolds",
         "rawType": "object",
         "type": "unknown"
        },
        {
         "name": "mol",
         "rawType": "object",
         "type": "unknown"
        },
        {
         "name": "mol_weight",
         "rawType": "float64",
         "type": "float"
        }
       ],
       "ref": "d0f60c43-59c5-4c26-8f5c-98a1e3fc751e",
       "rows": [
        [
         "4",
         "Cc1cc(CC#N)cc(C)c1Nc1ccnc(Nc2ccc(C#N)cc2)n1",
         "ZKXJVUBVZRGELZ-UHFFFAOYSA-N",
         "['C#N', '[R][NH][R]', '[R][NH][R]', 'C#N', '[Nar]', '[Nar]']",
         "c1ccc(Nc2ccnc(Nc3ccccc3)n2)cc1",
         "<rdkit.Chem.rdchem.Mol object at 0x17599f610>",
         "354.4170000000001"
        ],
        [
         "5",
         "CC[C@H](C)[C@H](NS(=O)(=O)c1ccc(C)cc1)C(=O)N1CCC(C(=O)N[C@H](C(=O)O)C(C)C)CC1",
         "GDPHYVWXATZNEZ-YYWHXJBOSA-N",
         "['O=[S](=O)([R])[N]([R])[R]', 'O=[C]([R])[N]([R])[R]', 'O=[C]([R])[N]([R])[R]', 'O=[C](O)[R]']",
         "*=C(CNS(=*)(=*)c1ccccc1)N1CCCCC1",
         "<rdkit.Chem.rdchem.Mol object at 0x17599f370>",
         "495.64200000000034"
        ],
        [
         "9",
         "C[C@]12CC[C@H](O)C[C@]1(C=O)CC=C1CCC12",
         "OXLGUMPVPZLFKY-FUEJHIMDSA-N",
         "['[OH][Cal]', 'O=[CH][R]', 'C=C']",
         "C1=C2CCC2C2CCCCC2C1",
         "<rdkit.Chem.rdchem.Mol object at 0x35cae3300>",
         "220.31199999999995"
        ],
        [
         "13",
         "CC(C)(C)SC[C@H](N)C(=O)O",
         "VADVRIAPCDFQJU-YFKPBYRVSA-N",
         "['[R][S][R]', '[NH2][Cal]', 'O=[C](O)[R]']",
         null,
         "<rdkit.Chem.rdchem.Mol object at 0x35cae3290>",
         "177.26899999999998"
        ],
        [
         "14",
         "C=CCc1cc(/C=C2\\CN(C)C/C(=C\\c3ccc(O)c(CC=C)c3)C2=O)ccc1O",
         "IWFTZFJVKREGEG-HOFJZWJUSA-N",
         "['C=C', 'C=CC(=O)C=C', '[R][N]([R])[R]', '[OH][Car]', 'C=C', '[OH][Car]']",
         "*=C1C(=Cc2ccccc2)CNCC1=Cc1ccccc1",
         "<rdkit.Chem.rdchem.Mol object at 0x32bca2ab0>",
         "401.50600000000014"
        ]
       ],
       "shape": {
        "columns": 6,
        "rows": 5
       }
      },
      "text/html": [
       "<div>\n",
       "<style scoped>\n",
       "    .dataframe tbody tr th:only-of-type {\n",
       "        vertical-align: middle;\n",
       "    }\n",
       "\n",
       "    .dataframe tbody tr th {\n",
       "        vertical-align: top;\n",
       "    }\n",
       "\n",
       "    .dataframe thead th {\n",
       "        text-align: right;\n",
       "    }\n",
       "</style>\n",
       "<table border=\"1\" class=\"dataframe\">\n",
       "  <thead>\n",
       "    <tr style=\"text-align: right;\">\n",
       "      <th></th>\n",
       "      <th>smiles</th>\n",
       "      <th>inchikey</th>\n",
       "      <th>fgs</th>\n",
       "      <th>scaffolds</th>\n",
       "      <th>mol</th>\n",
       "      <th>mol_weight</th>\n",
       "    </tr>\n",
       "  </thead>\n",
       "  <tbody>\n",
       "    <tr>\n",
       "      <th>4</th>\n",
       "      <td>Cc1cc(CC#N)cc(C)c1Nc1ccnc(Nc2ccc(C#N)cc2)n1</td>\n",
       "      <td>ZKXJVUBVZRGELZ-UHFFFAOYSA-N</td>\n",
       "      <td>[C#N, [R][NH][R], [R][NH][R], C#N, [Nar], [Nar]]</td>\n",
       "      <td>c1ccc(Nc2ccnc(Nc3ccccc3)n2)cc1</td>\n",
       "      <td>&lt;rdkit.Chem.rdchem.Mol object at 0x17599f610&gt;</td>\n",
       "      <td>354.417</td>\n",
       "    </tr>\n",
       "    <tr>\n",
       "      <th>5</th>\n",
       "      <td>CC[C@H](C)[C@H](NS(=O)(=O)c1ccc(C)cc1)C(=O)N1C...</td>\n",
       "      <td>GDPHYVWXATZNEZ-YYWHXJBOSA-N</td>\n",
       "      <td>[O=[S](=O)([R])[N]([R])[R], O=[C]([R])[N]([R])...</td>\n",
       "      <td>*=C(CNS(=*)(=*)c1ccccc1)N1CCCCC1</td>\n",
       "      <td>&lt;rdkit.Chem.rdchem.Mol object at 0x17599f370&gt;</td>\n",
       "      <td>495.642</td>\n",
       "    </tr>\n",
       "    <tr>\n",
       "      <th>9</th>\n",
       "      <td>C[C@]12CC[C@H](O)C[C@]1(C=O)CC=C1CCC12</td>\n",
       "      <td>OXLGUMPVPZLFKY-FUEJHIMDSA-N</td>\n",
       "      <td>[[OH][Cal], O=[CH][R], C=C]</td>\n",
       "      <td>C1=C2CCC2C2CCCCC2C1</td>\n",
       "      <td>&lt;rdkit.Chem.rdchem.Mol object at 0x35cae3300&gt;</td>\n",
       "      <td>220.312</td>\n",
       "    </tr>\n",
       "    <tr>\n",
       "      <th>13</th>\n",
       "      <td>CC(C)(C)SC[C@H](N)C(=O)O</td>\n",
       "      <td>VADVRIAPCDFQJU-YFKPBYRVSA-N</td>\n",
       "      <td>[[R][S][R], [NH2][Cal], O=[C](O)[R]]</td>\n",
       "      <td>NaN</td>\n",
       "      <td>&lt;rdkit.Chem.rdchem.Mol object at 0x35cae3290&gt;</td>\n",
       "      <td>177.269</td>\n",
       "    </tr>\n",
       "    <tr>\n",
       "      <th>14</th>\n",
       "      <td>C=CCc1cc(/C=C2\\CN(C)C/C(=C\\c3ccc(O)c(CC=C)c3)C...</td>\n",
       "      <td>IWFTZFJVKREGEG-HOFJZWJUSA-N</td>\n",
       "      <td>[C=C, C=CC(=O)C=C, [R][N]([R])[R], [OH][Car], ...</td>\n",
       "      <td>*=C1C(=Cc2ccccc2)CNCC1=Cc1ccccc1</td>\n",
       "      <td>&lt;rdkit.Chem.rdchem.Mol object at 0x32bca2ab0&gt;</td>\n",
       "      <td>401.506</td>\n",
       "    </tr>\n",
       "  </tbody>\n",
       "</table>\n",
       "</div>"
      ],
      "text/plain": [
       "                                               smiles  \\\n",
       "4         Cc1cc(CC#N)cc(C)c1Nc1ccnc(Nc2ccc(C#N)cc2)n1   \n",
       "5   CC[C@H](C)[C@H](NS(=O)(=O)c1ccc(C)cc1)C(=O)N1C...   \n",
       "9              C[C@]12CC[C@H](O)C[C@]1(C=O)CC=C1CCC12   \n",
       "13                           CC(C)(C)SC[C@H](N)C(=O)O   \n",
       "14  C=CCc1cc(/C=C2\\CN(C)C/C(=C\\c3ccc(O)c(CC=C)c3)C...   \n",
       "\n",
       "                       inchikey  \\\n",
       "4   ZKXJVUBVZRGELZ-UHFFFAOYSA-N   \n",
       "5   GDPHYVWXATZNEZ-YYWHXJBOSA-N   \n",
       "9   OXLGUMPVPZLFKY-FUEJHIMDSA-N   \n",
       "13  VADVRIAPCDFQJU-YFKPBYRVSA-N   \n",
       "14  IWFTZFJVKREGEG-HOFJZWJUSA-N   \n",
       "\n",
       "                                                  fgs  \\\n",
       "4    [C#N, [R][NH][R], [R][NH][R], C#N, [Nar], [Nar]]   \n",
       "5   [O=[S](=O)([R])[N]([R])[R], O=[C]([R])[N]([R])...   \n",
       "9                         [[OH][Cal], O=[CH][R], C=C]   \n",
       "13               [[R][S][R], [NH2][Cal], O=[C](O)[R]]   \n",
       "14  [C=C, C=CC(=O)C=C, [R][N]([R])[R], [OH][Car], ...   \n",
       "\n",
       "                           scaffolds  \\\n",
       "4     c1ccc(Nc2ccnc(Nc3ccccc3)n2)cc1   \n",
       "5   *=C(CNS(=*)(=*)c1ccccc1)N1CCCCC1   \n",
       "9                C1=C2CCC2C2CCCCC2C1   \n",
       "13                               NaN   \n",
       "14  *=C1C(=Cc2ccccc2)CNCC1=Cc1ccccc1   \n",
       "\n",
       "                                              mol  mol_weight  \n",
       "4   <rdkit.Chem.rdchem.Mol object at 0x17599f610>     354.417  \n",
       "5   <rdkit.Chem.rdchem.Mol object at 0x17599f370>     495.642  \n",
       "9   <rdkit.Chem.rdchem.Mol object at 0x35cae3300>     220.312  \n",
       "13  <rdkit.Chem.rdchem.Mol object at 0x35cae3290>     177.269  \n",
       "14  <rdkit.Chem.rdchem.Mol object at 0x32bca2ab0>     401.506  "
      ]
     },
     "execution_count": 8,
     "metadata": {},
     "output_type": "execute_result"
    }
   ],
   "source": [
    "# Get the molecular weights of the molecules\n",
    "chembl_curated['mol_weight'] = chembl_curated['mol'].apply(lambda x: Descriptors.MolWt(x) if x else None)\n",
    "chembl_curated.head()"
   ]
  },
  {
   "cell_type": "code",
   "execution_count": 9,
   "id": "9fedf9ef",
   "metadata": {},
   "outputs": [],
   "source": [
    "filtered = chembl_curated[\n",
    "    (chembl_curated['mol_weight'] <= 500)\n",
    "]\n",
    "\n",
    "filtered[['smiles', 'inchikey', 'fgs', 'scaffolds', 'mol_weight']].to_csv('chembl_35_fg_scaf_curated.csv', index=False)"
   ]
  },
  {
   "cell_type": "code",
   "execution_count": 10,
   "id": "0ed521ce",
   "metadata": {},
   "outputs": [
    {
     "ename": "KeyboardInterrupt",
     "evalue": "",
     "output_type": "error",
     "traceback": [
      "\u001b[31m---------------------------------------------------------------------------\u001b[39m",
      "\u001b[31mKeyboardInterrupt\u001b[39m                         Traceback (most recent call last)",
      "\u001b[36mCell\u001b[39m\u001b[36m \u001b[39m\u001b[32mIn[10]\u001b[39m\u001b[32m, line 2\u001b[39m\n\u001b[32m      1\u001b[39m \u001b[38;5;66;03m# Create fingerprints and functional group arrays\u001b[39;00m\n\u001b[32m----> \u001b[39m\u001b[32m2\u001b[39m filtered[\u001b[33m'\u001b[39m\u001b[33mfingerprint\u001b[39m\u001b[33m'\u001b[39m] = filtered[\u001b[33m'\u001b[39m\u001b[33mmol\u001b[39m\u001b[33m'\u001b[39m].apply(mol_to_fingerprint)\n\u001b[32m      4\u001b[39m filtered[\u001b[33m'\u001b[39m\u001b[33mfingerprint_array\u001b[39m\u001b[33m'\u001b[39m] = filtered[\u001b[33m'\u001b[39m\u001b[33mfingerprint\u001b[39m\u001b[33m'\u001b[39m].apply(\n\u001b[32m      5\u001b[39m     \u001b[38;5;28;01mlambda\u001b[39;00m x: fp_to_array(x) \u001b[38;5;28;01mif\u001b[39;00m x \u001b[38;5;129;01mis\u001b[39;00m \u001b[38;5;129;01mnot\u001b[39;00m \u001b[38;5;28;01mNone\u001b[39;00m \u001b[38;5;28;01melse\u001b[39;00m \u001b[38;5;28;01mNone\u001b[39;00m\n\u001b[32m      6\u001b[39m )\n\u001b[32m      8\u001b[39m filtered[\u001b[33m'\u001b[39m\u001b[33mfg_array\u001b[39m\u001b[33m'\u001b[39m] = filtered[\u001b[33m'\u001b[39m\u001b[33mfgs\u001b[39m\u001b[33m'\u001b[39m].apply(\u001b[38;5;28;01mlambda\u001b[39;00m x: fg_to_array(x, curation_fgs))\n",
      "\u001b[36mFile \u001b[39m\u001b[32m~/miniconda3/envs/rdkit-thesis/lib/python3.13/site-packages/pandas/core/series.py:4935\u001b[39m, in \u001b[36mSeries.apply\u001b[39m\u001b[34m(self, func, convert_dtype, args, by_row, **kwargs)\u001b[39m\n\u001b[32m   4800\u001b[39m \u001b[38;5;28;01mdef\u001b[39;00m\u001b[38;5;250m \u001b[39m\u001b[34mapply\u001b[39m(\n\u001b[32m   4801\u001b[39m     \u001b[38;5;28mself\u001b[39m,\n\u001b[32m   4802\u001b[39m     func: AggFuncType,\n\u001b[32m   (...)\u001b[39m\u001b[32m   4807\u001b[39m     **kwargs,\n\u001b[32m   4808\u001b[39m ) -> DataFrame | Series:\n\u001b[32m   4809\u001b[39m \u001b[38;5;250m    \u001b[39m\u001b[33;03m\"\"\"\u001b[39;00m\n\u001b[32m   4810\u001b[39m \u001b[33;03m    Invoke function on values of Series.\u001b[39;00m\n\u001b[32m   4811\u001b[39m \n\u001b[32m   (...)\u001b[39m\u001b[32m   4926\u001b[39m \u001b[33;03m    dtype: float64\u001b[39;00m\n\u001b[32m   4927\u001b[39m \u001b[33;03m    \"\"\"\u001b[39;00m\n\u001b[32m   4928\u001b[39m     \u001b[38;5;28;01mreturn\u001b[39;00m SeriesApply(\n\u001b[32m   4929\u001b[39m         \u001b[38;5;28mself\u001b[39m,\n\u001b[32m   4930\u001b[39m         func,\n\u001b[32m   4931\u001b[39m         convert_dtype=convert_dtype,\n\u001b[32m   4932\u001b[39m         by_row=by_row,\n\u001b[32m   4933\u001b[39m         args=args,\n\u001b[32m   4934\u001b[39m         kwargs=kwargs,\n\u001b[32m-> \u001b[39m\u001b[32m4935\u001b[39m     ).apply()\n",
      "\u001b[36mFile \u001b[39m\u001b[32m~/miniconda3/envs/rdkit-thesis/lib/python3.13/site-packages/pandas/core/apply.py:1422\u001b[39m, in \u001b[36mSeriesApply.apply\u001b[39m\u001b[34m(self)\u001b[39m\n\u001b[32m   1419\u001b[39m     \u001b[38;5;28;01mreturn\u001b[39;00m \u001b[38;5;28mself\u001b[39m.apply_compat()\n\u001b[32m   1421\u001b[39m \u001b[38;5;66;03m# self.func is Callable\u001b[39;00m\n\u001b[32m-> \u001b[39m\u001b[32m1422\u001b[39m \u001b[38;5;28;01mreturn\u001b[39;00m \u001b[38;5;28mself\u001b[39m.apply_standard()\n",
      "\u001b[36mFile \u001b[39m\u001b[32m~/miniconda3/envs/rdkit-thesis/lib/python3.13/site-packages/pandas/core/apply.py:1502\u001b[39m, in \u001b[36mSeriesApply.apply_standard\u001b[39m\u001b[34m(self)\u001b[39m\n\u001b[32m   1496\u001b[39m \u001b[38;5;66;03m# row-wise access\u001b[39;00m\n\u001b[32m   1497\u001b[39m \u001b[38;5;66;03m# apply doesn't have a `na_action` keyword and for backward compat reasons\u001b[39;00m\n\u001b[32m   1498\u001b[39m \u001b[38;5;66;03m# we need to give `na_action=\"ignore\"` for categorical data.\u001b[39;00m\n\u001b[32m   1499\u001b[39m \u001b[38;5;66;03m# TODO: remove the `na_action=\"ignore\"` when that default has been changed in\u001b[39;00m\n\u001b[32m   1500\u001b[39m \u001b[38;5;66;03m#  Categorical (GH51645).\u001b[39;00m\n\u001b[32m   1501\u001b[39m action = \u001b[33m\"\u001b[39m\u001b[33mignore\u001b[39m\u001b[33m\"\u001b[39m \u001b[38;5;28;01mif\u001b[39;00m \u001b[38;5;28misinstance\u001b[39m(obj.dtype, CategoricalDtype) \u001b[38;5;28;01melse\u001b[39;00m \u001b[38;5;28;01mNone\u001b[39;00m\n\u001b[32m-> \u001b[39m\u001b[32m1502\u001b[39m mapped = obj._map_values(\n\u001b[32m   1503\u001b[39m     mapper=curried, na_action=action, convert=\u001b[38;5;28mself\u001b[39m.convert_dtype\n\u001b[32m   1504\u001b[39m )\n\u001b[32m   1506\u001b[39m \u001b[38;5;28;01mif\u001b[39;00m \u001b[38;5;28mlen\u001b[39m(mapped) \u001b[38;5;129;01mand\u001b[39;00m \u001b[38;5;28misinstance\u001b[39m(mapped[\u001b[32m0\u001b[39m], ABCSeries):\n\u001b[32m   1507\u001b[39m     \u001b[38;5;66;03m# GH#43986 Need to do list(mapped) in order to get treated as nested\u001b[39;00m\n\u001b[32m   1508\u001b[39m     \u001b[38;5;66;03m#  See also GH#25959 regarding EA support\u001b[39;00m\n\u001b[32m   1509\u001b[39m     \u001b[38;5;28;01mreturn\u001b[39;00m obj._constructor_expanddim(\u001b[38;5;28mlist\u001b[39m(mapped), index=obj.index)\n",
      "\u001b[36mFile \u001b[39m\u001b[32m~/miniconda3/envs/rdkit-thesis/lib/python3.13/site-packages/pandas/core/base.py:925\u001b[39m, in \u001b[36mIndexOpsMixin._map_values\u001b[39m\u001b[34m(self, mapper, na_action, convert)\u001b[39m\n\u001b[32m    922\u001b[39m \u001b[38;5;28;01mif\u001b[39;00m \u001b[38;5;28misinstance\u001b[39m(arr, ExtensionArray):\n\u001b[32m    923\u001b[39m     \u001b[38;5;28;01mreturn\u001b[39;00m arr.map(mapper, na_action=na_action)\n\u001b[32m--> \u001b[39m\u001b[32m925\u001b[39m \u001b[38;5;28;01mreturn\u001b[39;00m algorithms.map_array(arr, mapper, na_action=na_action, convert=convert)\n",
      "\u001b[36mFile \u001b[39m\u001b[32m~/miniconda3/envs/rdkit-thesis/lib/python3.13/site-packages/pandas/core/algorithms.py:1743\u001b[39m, in \u001b[36mmap_array\u001b[39m\u001b[34m(arr, mapper, na_action, convert)\u001b[39m\n\u001b[32m   1741\u001b[39m values = arr.astype(\u001b[38;5;28mobject\u001b[39m, copy=\u001b[38;5;28;01mFalse\u001b[39;00m)\n\u001b[32m   1742\u001b[39m \u001b[38;5;28;01mif\u001b[39;00m na_action \u001b[38;5;129;01mis\u001b[39;00m \u001b[38;5;28;01mNone\u001b[39;00m:\n\u001b[32m-> \u001b[39m\u001b[32m1743\u001b[39m     \u001b[38;5;28;01mreturn\u001b[39;00m lib.map_infer(values, mapper, convert=convert)\n\u001b[32m   1744\u001b[39m \u001b[38;5;28;01melse\u001b[39;00m:\n\u001b[32m   1745\u001b[39m     \u001b[38;5;28;01mreturn\u001b[39;00m lib.map_infer_mask(\n\u001b[32m   1746\u001b[39m         values, mapper, mask=isna(values).view(np.uint8), convert=convert\n\u001b[32m   1747\u001b[39m     )\n",
      "\u001b[36mFile \u001b[39m\u001b[32mpandas/_libs/lib.pyx:2999\u001b[39m, in \u001b[36mpandas._libs.lib.map_infer\u001b[39m\u001b[34m()\u001b[39m\n",
      "\u001b[36mFile \u001b[39m\u001b[32m~/Library/CloudStorage/OneDrive-UniversityCollegeLondon/UCL Thesis/Code/FG_VAE/fg_funcs.py:107\u001b[39m, in \u001b[36mmol_to_fingerprint\u001b[39m\u001b[34m(mol)\u001b[39m\n\u001b[32m    105\u001b[39m \u001b[38;5;28;01mif\u001b[39;00m mol \u001b[38;5;129;01mis\u001b[39;00m \u001b[38;5;28;01mNone\u001b[39;00m:\n\u001b[32m    106\u001b[39m     \u001b[38;5;28;01mreturn\u001b[39;00m \u001b[38;5;28;01mNone\u001b[39;00m\n\u001b[32m--> \u001b[39m\u001b[32m107\u001b[39m \u001b[38;5;28;01mreturn\u001b[39;00m mfpgen.GetFingerprint(mol)\n",
      "\u001b[31mKeyboardInterrupt\u001b[39m: "
     ]
    }
   ],
   "source": [
    "# Create fingerprints and functional group arrays\n",
    "filtered['fingerprint'] = filtered['mol'].apply(mol_to_fingerprint)\n",
    "\n",
    "filtered['fingerprint_array'] = filtered['fingerprint'].apply(\n",
    "    lambda x: fp_to_array(x) if x is not None else None\n",
    ")\n",
    "\n",
    "filtered['fg_array'] = filtered['fgs'].apply(lambda x: fg_to_array(x, curation_fgs))\n",
    "\n",
    "# Convert the fingerprint to numpy arrays\n",
    "filtered['fingerprint_array'] = filtered['fingerprint_array'].apply(lambda x: x if isinstance(x, np.ndarray) else np.zeros((2048,), dtype=int))\n",
    "\n",
    "# Convert the fg_array to numpy arrays\n",
    "filtered['fg_array'] = filtered['fg_array'].apply(lambda x: x if isinstance(x, np.ndarray) else np.zeros((len(curation_fgs),), dtype=int))\n",
    "\n",
    "# Remove molecules with more than 1 of the functional groups\n",
    "filtered['fg_array'] = filtered['fg_array'].apply(lambda x: x if np.sum(x) <= 1 else np.zeros((len(curation_fgs),), dtype=int))\n",
    "\n",
    "# Remove any rows where fg_array is all zeros\n",
    "filtered = filtered[filtered['fg_array'].apply(lambda x: np.any(x))]\n",
    "\n",
    "# Sample 100,000 molecules\n",
    "sampled = filtered.sample(n=100000, random_state=42)"
   ]
  },
  {
   "cell_type": "code",
   "execution_count": null,
   "id": "396c8ed6",
   "metadata": {},
   "outputs": [
    {
     "name": "stdout",
     "output_type": "stream",
     "text": [
      "Processed data saved to chembl_35_fg_scaf_curated.pkl\n"
     ]
    }
   ],
   "source": [
    "# Save the processed data to a pickle file\n",
    "output_file = 'data/chembl_35_fg_scaf_curated.pkl'\n",
    "with open(output_file, 'wb') as f:\n",
    "    pickle.dump(sampled, f)\n",
    "print(f\"Processed data saved to {output_file}\")"
   ]
  }
 ],
 "metadata": {
  "kernelspec": {
   "display_name": "rdkit-thesis",
   "language": "python",
   "name": "python3"
  },
  "language_info": {
   "codemirror_mode": {
    "name": "ipython",
    "version": 3
   },
   "file_extension": ".py",
   "mimetype": "text/x-python",
   "name": "python",
   "nbconvert_exporter": "python",
   "pygments_lexer": "ipython3",
   "version": "3.13.3"
  }
 },
 "nbformat": 4,
 "nbformat_minor": 5
}
