{
 "cells": [
  {
   "cell_type": "code",
   "execution_count": null,
   "id": "70e81113",
   "metadata": {},
   "outputs": [],
   "source": [
    "import pandas as pd\n",
    "from rdkit.Chem import Descriptors\n",
    "import pickle\n",
    "import os\n",
    "import numpy as np\n",
    "import matplotlib.pyplot as plt\n",
    "\n",
    "from fg_funcs import mol_to_fingerprint, safe_mol_from_smiles, fg_to_array, fp_to_array"
   ]
  },
  {
   "cell_type": "code",
   "execution_count": null,
   "id": "edfdbb7f",
   "metadata": {},
   "outputs": [],
   "source": [
    "# Load the dataset\n",
    "data_path = 'data/chembl_35_fg_scaf.csv'\n",
    "if os.path.exists(data_path):\n",
    "    chembl = pd.read_csv(data_path)\n",
    "else:\n",
    "    raise FileNotFoundError(f\"Dataset not found at {data_path}\")"
   ]
  },
  {
   "cell_type": "code",
   "execution_count": null,
   "id": "84a1b732",
   "metadata": {},
   "outputs": [],
   "source": [
    "# Convert each fgs entry to a list\n",
    "chembl['fgs'] = chembl['fgs'].apply(lambda x: eval(x) if isinstance(x, str) else x)\n",
    "\n",
    "# drop rows with empty fgs\n",
    "chembl = chembl[chembl['fgs'].notna() & (chembl['fgs'].str.len() > 0)]"
   ]
  },
  {
   "cell_type": "code",
   "execution_count": null,
   "id": "148db81b",
   "metadata": {},
   "outputs": [],
   "source": [
    "# Currate dataset using 4 functional groups\n",
    "fgs_list = []\n",
    "for fgs in chembl['fgs']:\n",
    "    if isinstance(fgs, list):\n",
    "        fgs_list.extend(fgs)\n",
    "sorted_fgs = pd.Series(fgs_list).value_counts().head(20).index.tolist()\n",
    "\n",
    "print(sorted_fgs)\n"
   ]
  },
  {
   "cell_type": "code",
   "execution_count": null,
   "id": "73139aa6",
   "metadata": {},
   "outputs": [],
   "source": [
    "print(pd.Series(fgs_list).value_counts())\n",
    "\n",
    "# Get how many fgs have more than 1000 occurrences\n",
    "print((pd.Series(fgs_list).value_counts() < 100).sum())\n"
   ]
  },
  {
   "cell_type": "code",
   "execution_count": null,
   "id": "20359879",
   "metadata": {},
   "outputs": [],
   "source": [
    "curation_fgs = ['[R][NH][R]', 'O=[C](O)[R]', 'C=C', '[NH2][Car]']\n",
    "chembl_curated = chembl[chembl['fgs'].apply(lambda x: any(fg in x for fg in curation_fgs))]\n",
    "chembl_curated.shape"
   ]
  },
  {
   "cell_type": "code",
   "execution_count": null,
   "id": "a33d9a77",
   "metadata": {},
   "outputs": [],
   "source": [
    "# Convert SMILES to RDKit Mol objects\n",
    "chembl_curated['mol'] = chembl_curated['smiles'].apply(safe_mol_from_smiles)\n",
    "chembl_curated.head()"
   ]
  },
  {
   "cell_type": "code",
   "execution_count": null,
   "id": "e33831ad",
   "metadata": {},
   "outputs": [],
   "source": [
    "# Get the molecular weights of the molecules\n",
    "chembl_curated['mol_weight'] = chembl_curated['mol'].apply(lambda x: Descriptors.MolWt(x) if x else None)\n",
    "chembl_curated.head()"
   ]
  },
  {
   "cell_type": "code",
   "execution_count": null,
   "id": "9fedf9ef",
   "metadata": {},
   "outputs": [],
   "source": [
    "filtered = chembl_curated[\n",
    "    (chembl_curated['mol_weight'] <= 500)\n",
    "]\n",
    "\n",
    "filtered[['smiles', 'inchikey', 'fgs', 'scaffolds', 'mol_weight']].to_csv('chembl_35_fg_scaf_curated.csv', index=False)"
   ]
  },
  {
   "cell_type": "code",
   "execution_count": null,
   "id": "0ed521ce",
   "metadata": {},
   "outputs": [],
   "source": [
    "# Create fingerprints and functional group arrays\n",
    "filtered['fingerprint'] = filtered['mol'].apply(mol_to_fingerprint)\n",
    "\n",
    "filtered['fingerprint_array'] = filtered['fingerprint'].apply(\n",
    "    lambda x: fp_to_array(x) if x is not None else None\n",
    ")\n",
    "\n",
    "filtered['fg_array'] = filtered['fgs'].apply(lambda x: fg_to_array(x, curation_fgs))\n",
    "\n",
    "# Convert the fingerprint to numpy arrays\n",
    "filtered['fingerprint_array'] = filtered['fingerprint_array'].apply(lambda x: x if isinstance(x, np.ndarray) else np.zeros((2048,), dtype=int))\n",
    "\n",
    "# Convert the fg_array to numpy arrays\n",
    "filtered['fg_array'] = filtered['fg_array'].apply(lambda x: x if isinstance(x, np.ndarray) else np.zeros((len(curation_fgs),), dtype=int))\n",
    "\n",
    "# Remove molecules with more than 1 of the functional groups\n",
    "filtered['fg_array'] = filtered['fg_array'].apply(lambda x: x if np.sum(x) <= 1 else np.zeros((len(curation_fgs),), dtype=int))\n",
    "\n",
    "# Remove any rows where fg_array is all zeros\n",
    "filtered = filtered[filtered['fg_array'].apply(lambda x: np.any(x))]\n",
    "\n",
    "# Sample 100,000 molecules\n",
    "sampled = filtered.sample(n=100000, random_state=42)"
   ]
  },
  {
   "cell_type": "code",
   "execution_count": null,
   "id": "396c8ed6",
   "metadata": {},
   "outputs": [],
   "source": [
    "# Save the processed data to a pickle file\n",
    "output_file = 'data/chembl_35_fg_scaf_curated.pkl'\n",
    "with open(output_file, 'wb') as f:\n",
    "    pickle.dump(sampled, f)\n",
    "print(f\"Processed data saved to {output_file}\")"
   ]
  }
 ],
 "metadata": {
  "kernelspec": {
   "display_name": "rdkit-thesis",
   "language": "python",
   "name": "python3"
  },
  "language_info": {
   "codemirror_mode": {
    "name": "ipython",
    "version": 3
   },
   "file_extension": ".py",
   "mimetype": "text/x-python",
   "name": "python",
   "nbconvert_exporter": "python",
   "pygments_lexer": "ipython3",
   "version": "3.13.3"
  }
 },
 "nbformat": 4,
 "nbformat_minor": 5
}
